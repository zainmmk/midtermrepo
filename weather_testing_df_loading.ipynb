{
 "cells": [
  {
   "cell_type": "code",
   "execution_count": 1,
   "id": "37203092-1ee5-402e-bfc2-bcbdad985469",
   "metadata": {},
   "outputs": [],
   "source": [
    "import pandas as pd\n",
    "import psycopg2\n",
    "from psycopg2 import Error\n",
    "import requests as re\n",
    "import os\n",
    "weather_key = os.environ[\"WETH_API\"]\n",
    "from collections import Counter"
   ]
  },
  {
   "cell_type": "code",
   "execution_count": 13,
   "id": "ba072f14-7475-4335-b9a2-02ba2dc9980c",
   "metadata": {},
   "outputs": [],
   "source": [
    "connection = psycopg2.connect(user=\"lhl_student\",\n",
    "                                  password=\"lhl_student\",\n",
    "                                  host=\"lhl-data-bootcamp.crzjul5qln0e.ca-central-1.rds.amazonaws.com\",\n",
    "                                  port=\"5432\",\n",
    "                                  database=\"mid_term_project\")\n",
    "cursor=connection.cursor()"
   ]
  },
  {
   "cell_type": "code",
   "execution_count": 3,
   "id": "1f56a7b4-1c1c-4d72-b482-54bf9a7f27e7",
   "metadata": {},
   "outputs": [],
   "source": [
    "#this notebook was made to gather weather data for my big dataset and experiment with how to make it work in a model\n",
    "#also used it to change submission data to right format since modeling notebook was running model fitting"
   ]
  },
  {
   "cell_type": "code",
   "execution_count": 14,
   "id": "052dfce6-1216-4f3b-b030-f6cc501fb657",
   "metadata": {},
   "outputs": [
    {
     "name": "stderr",
     "output_type": "stream",
     "text": [
      "C:\\Users\\zain_\\AppData\\Roaming\\Python\\Python39\\site-packages\\pandas\\io\\sql.py:761: UserWarning: pandas only support SQLAlchemy connectable(engine/connection) ordatabase string URI or sqlite3 DBAPI2 connectionother DBAPI2 objects are not tested, please consider using SQLAlchemy\n",
      "  warnings.warn(\n"
     ]
    }
   ],
   "source": [
    "submission_data = \"select * from flights_test where fl_date <= '2020-01-07'\"\n",
    "cursor.execute(submission_data)\n",
    "submission_data = pd.read_sql_query(submission_data,connection)"
   ]
  },
  {
   "cell_type": "code",
   "execution_count": 17,
   "id": "3bc78743-cabc-4e8d-aa0c-0ac656f08e8d",
   "metadata": {},
   "outputs": [],
   "source": [
    "submission_data\n",
    "submission_data.to_csv('submission_data.csv',index=False)"
   ]
  },
  {
   "cell_type": "code",
   "execution_count": 18,
   "id": "17eb5a8f-e6d1-4aef-913b-7190c2ca8d55",
   "metadata": {},
   "outputs": [
    {
     "data": {
      "text/html": [
       "<div>\n",
       "<style scoped>\n",
       "    .dataframe tbody tr th:only-of-type {\n",
       "        vertical-align: middle;\n",
       "    }\n",
       "\n",
       "    .dataframe tbody tr th {\n",
       "        vertical-align: top;\n",
       "    }\n",
       "\n",
       "    .dataframe thead th {\n",
       "        text-align: right;\n",
       "    }\n",
       "</style>\n",
       "<table border=\"1\" class=\"dataframe\">\n",
       "  <thead>\n",
       "    <tr style=\"text-align: right;\">\n",
       "      <th></th>\n",
       "      <th>fl_date</th>\n",
       "      <th>mkt_unique_carrier</th>\n",
       "      <th>branded_code_share</th>\n",
       "      <th>mkt_carrier</th>\n",
       "      <th>mkt_carrier_fl_num</th>\n",
       "      <th>op_unique_carrier</th>\n",
       "      <th>tail_num</th>\n",
       "      <th>op_carrier_fl_num</th>\n",
       "      <th>origin_airport_id</th>\n",
       "      <th>origin</th>\n",
       "      <th>origin_city_name</th>\n",
       "      <th>dest_airport_id</th>\n",
       "      <th>dest</th>\n",
       "      <th>dest_city_name</th>\n",
       "      <th>crs_dep_time</th>\n",
       "      <th>crs_arr_time</th>\n",
       "      <th>dup</th>\n",
       "      <th>crs_elapsed_time</th>\n",
       "      <th>flights</th>\n",
       "      <th>distance</th>\n",
       "    </tr>\n",
       "  </thead>\n",
       "  <tbody>\n",
       "    <tr>\n",
       "      <th>0</th>\n",
       "      <td>2020-01-01</td>\n",
       "      <td>WN</td>\n",
       "      <td>WN</td>\n",
       "      <td>WN</td>\n",
       "      <td>5888</td>\n",
       "      <td>WN</td>\n",
       "      <td>N951WN</td>\n",
       "      <td>5888</td>\n",
       "      <td>13891</td>\n",
       "      <td>ONT</td>\n",
       "      <td>Ontario, CA</td>\n",
       "      <td>14771</td>\n",
       "      <td>SFO</td>\n",
       "      <td>San Francisco, CA</td>\n",
       "      <td>1810</td>\n",
       "      <td>1945</td>\n",
       "      <td>N</td>\n",
       "      <td>95</td>\n",
       "      <td>1</td>\n",
       "      <td>363</td>\n",
       "    </tr>\n",
       "    <tr>\n",
       "      <th>1</th>\n",
       "      <td>2020-01-01</td>\n",
       "      <td>WN</td>\n",
       "      <td>WN</td>\n",
       "      <td>WN</td>\n",
       "      <td>6276</td>\n",
       "      <td>WN</td>\n",
       "      <td>N467WN</td>\n",
       "      <td>6276</td>\n",
       "      <td>13891</td>\n",
       "      <td>ONT</td>\n",
       "      <td>Ontario, CA</td>\n",
       "      <td>14771</td>\n",
       "      <td>SFO</td>\n",
       "      <td>San Francisco, CA</td>\n",
       "      <td>1150</td>\n",
       "      <td>1320</td>\n",
       "      <td>N</td>\n",
       "      <td>90</td>\n",
       "      <td>1</td>\n",
       "      <td>363</td>\n",
       "    </tr>\n",
       "    <tr>\n",
       "      <th>2</th>\n",
       "      <td>2020-01-01</td>\n",
       "      <td>WN</td>\n",
       "      <td>WN</td>\n",
       "      <td>WN</td>\n",
       "      <td>4598</td>\n",
       "      <td>WN</td>\n",
       "      <td>N7885A</td>\n",
       "      <td>4598</td>\n",
       "      <td>13891</td>\n",
       "      <td>ONT</td>\n",
       "      <td>Ontario, CA</td>\n",
       "      <td>14831</td>\n",
       "      <td>SJC</td>\n",
       "      <td>San Jose, CA</td>\n",
       "      <td>2020</td>\n",
       "      <td>2130</td>\n",
       "      <td>N</td>\n",
       "      <td>70</td>\n",
       "      <td>1</td>\n",
       "      <td>333</td>\n",
       "    </tr>\n",
       "    <tr>\n",
       "      <th>3</th>\n",
       "      <td>2020-01-01</td>\n",
       "      <td>WN</td>\n",
       "      <td>WN</td>\n",
       "      <td>WN</td>\n",
       "      <td>4761</td>\n",
       "      <td>WN</td>\n",
       "      <td>N551WN</td>\n",
       "      <td>4761</td>\n",
       "      <td>13891</td>\n",
       "      <td>ONT</td>\n",
       "      <td>Ontario, CA</td>\n",
       "      <td>14831</td>\n",
       "      <td>SJC</td>\n",
       "      <td>San Jose, CA</td>\n",
       "      <td>1340</td>\n",
       "      <td>1455</td>\n",
       "      <td>N</td>\n",
       "      <td>75</td>\n",
       "      <td>1</td>\n",
       "      <td>333</td>\n",
       "    </tr>\n",
       "    <tr>\n",
       "      <th>4</th>\n",
       "      <td>2020-01-01</td>\n",
       "      <td>WN</td>\n",
       "      <td>WN</td>\n",
       "      <td>WN</td>\n",
       "      <td>5162</td>\n",
       "      <td>WN</td>\n",
       "      <td>N968WN</td>\n",
       "      <td>5162</td>\n",
       "      <td>13891</td>\n",
       "      <td>ONT</td>\n",
       "      <td>Ontario, CA</td>\n",
       "      <td>14831</td>\n",
       "      <td>SJC</td>\n",
       "      <td>San Jose, CA</td>\n",
       "      <td>915</td>\n",
       "      <td>1035</td>\n",
       "      <td>N</td>\n",
       "      <td>80</td>\n",
       "      <td>1</td>\n",
       "      <td>333</td>\n",
       "    </tr>\n",
       "    <tr>\n",
       "      <th>...</th>\n",
       "      <td>...</td>\n",
       "      <td>...</td>\n",
       "      <td>...</td>\n",
       "      <td>...</td>\n",
       "      <td>...</td>\n",
       "      <td>...</td>\n",
       "      <td>...</td>\n",
       "      <td>...</td>\n",
       "      <td>...</td>\n",
       "      <td>...</td>\n",
       "      <td>...</td>\n",
       "      <td>...</td>\n",
       "      <td>...</td>\n",
       "      <td>...</td>\n",
       "      <td>...</td>\n",
       "      <td>...</td>\n",
       "      <td>...</td>\n",
       "      <td>...</td>\n",
       "      <td>...</td>\n",
       "      <td>...</td>\n",
       "    </tr>\n",
       "    <tr>\n",
       "      <th>150618</th>\n",
       "      <td>2020-01-07</td>\n",
       "      <td>DL</td>\n",
       "      <td>DL_CODESHARE</td>\n",
       "      <td>DL</td>\n",
       "      <td>4813</td>\n",
       "      <td>9E</td>\n",
       "      <td>N605LR</td>\n",
       "      <td>4813</td>\n",
       "      <td>11433</td>\n",
       "      <td>DTW</td>\n",
       "      <td>Detroit, MI</td>\n",
       "      <td>12478</td>\n",
       "      <td>JFK</td>\n",
       "      <td>New York, NY</td>\n",
       "      <td>1755</td>\n",
       "      <td>1952</td>\n",
       "      <td>N</td>\n",
       "      <td>117</td>\n",
       "      <td>1</td>\n",
       "      <td>509</td>\n",
       "    </tr>\n",
       "    <tr>\n",
       "      <th>150619</th>\n",
       "      <td>2020-01-07</td>\n",
       "      <td>DL</td>\n",
       "      <td>DL_CODESHARE</td>\n",
       "      <td>DL</td>\n",
       "      <td>4814</td>\n",
       "      <td>9E</td>\n",
       "      <td>N919XJ</td>\n",
       "      <td>4814</td>\n",
       "      <td>11996</td>\n",
       "      <td>GSP</td>\n",
       "      <td>Greer, SC</td>\n",
       "      <td>12953</td>\n",
       "      <td>LGA</td>\n",
       "      <td>New York, NY</td>\n",
       "      <td>600</td>\n",
       "      <td>759</td>\n",
       "      <td>N</td>\n",
       "      <td>119</td>\n",
       "      <td>1</td>\n",
       "      <td>610</td>\n",
       "    </tr>\n",
       "    <tr>\n",
       "      <th>150620</th>\n",
       "      <td>2020-01-07</td>\n",
       "      <td>DL</td>\n",
       "      <td>DL_CODESHARE</td>\n",
       "      <td>DL</td>\n",
       "      <td>4815</td>\n",
       "      <td>9E</td>\n",
       "      <td>N936XJ</td>\n",
       "      <td>4815</td>\n",
       "      <td>10397</td>\n",
       "      <td>ATL</td>\n",
       "      <td>Atlanta, GA</td>\n",
       "      <td>15919</td>\n",
       "      <td>XNA</td>\n",
       "      <td>Fayetteville, AR</td>\n",
       "      <td>1715</td>\n",
       "      <td>1816</td>\n",
       "      <td>N</td>\n",
       "      <td>121</td>\n",
       "      <td>1</td>\n",
       "      <td>589</td>\n",
       "    </tr>\n",
       "    <tr>\n",
       "      <th>150621</th>\n",
       "      <td>2020-01-07</td>\n",
       "      <td>DL</td>\n",
       "      <td>DL_CODESHARE</td>\n",
       "      <td>DL</td>\n",
       "      <td>4815</td>\n",
       "      <td>9E</td>\n",
       "      <td>N936XJ</td>\n",
       "      <td>4815</td>\n",
       "      <td>15919</td>\n",
       "      <td>XNA</td>\n",
       "      <td>Fayetteville, AR</td>\n",
       "      <td>10397</td>\n",
       "      <td>ATL</td>\n",
       "      <td>Atlanta, GA</td>\n",
       "      <td>1851</td>\n",
       "      <td>2145</td>\n",
       "      <td>N</td>\n",
       "      <td>114</td>\n",
       "      <td>1</td>\n",
       "      <td>589</td>\n",
       "    </tr>\n",
       "    <tr>\n",
       "      <th>150622</th>\n",
       "      <td>2020-01-07</td>\n",
       "      <td>DL</td>\n",
       "      <td>DL_CODESHARE</td>\n",
       "      <td>DL</td>\n",
       "      <td>4816</td>\n",
       "      <td>9E</td>\n",
       "      <td>N917XJ</td>\n",
       "      <td>4816</td>\n",
       "      <td>14321</td>\n",
       "      <td>PWM</td>\n",
       "      <td>Portland, ME</td>\n",
       "      <td>12953</td>\n",
       "      <td>LGA</td>\n",
       "      <td>New York, NY</td>\n",
       "      <td>600</td>\n",
       "      <td>741</td>\n",
       "      <td>N</td>\n",
       "      <td>101</td>\n",
       "      <td>1</td>\n",
       "      <td>269</td>\n",
       "    </tr>\n",
       "  </tbody>\n",
       "</table>\n",
       "<p>150623 rows × 20 columns</p>\n",
       "</div>"
      ],
      "text/plain": [
       "          fl_date mkt_unique_carrier branded_code_share mkt_carrier  \\\n",
       "0      2020-01-01                 WN                 WN          WN   \n",
       "1      2020-01-01                 WN                 WN          WN   \n",
       "2      2020-01-01                 WN                 WN          WN   \n",
       "3      2020-01-01                 WN                 WN          WN   \n",
       "4      2020-01-01                 WN                 WN          WN   \n",
       "...           ...                ...                ...         ...   \n",
       "150618 2020-01-07                 DL       DL_CODESHARE          DL   \n",
       "150619 2020-01-07                 DL       DL_CODESHARE          DL   \n",
       "150620 2020-01-07                 DL       DL_CODESHARE          DL   \n",
       "150621 2020-01-07                 DL       DL_CODESHARE          DL   \n",
       "150622 2020-01-07                 DL       DL_CODESHARE          DL   \n",
       "\n",
       "        mkt_carrier_fl_num op_unique_carrier tail_num  op_carrier_fl_num  \\\n",
       "0                     5888                WN   N951WN               5888   \n",
       "1                     6276                WN   N467WN               6276   \n",
       "2                     4598                WN   N7885A               4598   \n",
       "3                     4761                WN   N551WN               4761   \n",
       "4                     5162                WN   N968WN               5162   \n",
       "...                    ...               ...      ...                ...   \n",
       "150618                4813                9E   N605LR               4813   \n",
       "150619                4814                9E   N919XJ               4814   \n",
       "150620                4815                9E   N936XJ               4815   \n",
       "150621                4815                9E   N936XJ               4815   \n",
       "150622                4816                9E   N917XJ               4816   \n",
       "\n",
       "        origin_airport_id origin  origin_city_name  dest_airport_id dest  \\\n",
       "0                   13891    ONT       Ontario, CA            14771  SFO   \n",
       "1                   13891    ONT       Ontario, CA            14771  SFO   \n",
       "2                   13891    ONT       Ontario, CA            14831  SJC   \n",
       "3                   13891    ONT       Ontario, CA            14831  SJC   \n",
       "4                   13891    ONT       Ontario, CA            14831  SJC   \n",
       "...                   ...    ...               ...              ...  ...   \n",
       "150618              11433    DTW       Detroit, MI            12478  JFK   \n",
       "150619              11996    GSP         Greer, SC            12953  LGA   \n",
       "150620              10397    ATL       Atlanta, GA            15919  XNA   \n",
       "150621              15919    XNA  Fayetteville, AR            10397  ATL   \n",
       "150622              14321    PWM      Portland, ME            12953  LGA   \n",
       "\n",
       "           dest_city_name  crs_dep_time  crs_arr_time dup  crs_elapsed_time  \\\n",
       "0       San Francisco, CA          1810          1945   N                95   \n",
       "1       San Francisco, CA          1150          1320   N                90   \n",
       "2            San Jose, CA          2020          2130   N                70   \n",
       "3            San Jose, CA          1340          1455   N                75   \n",
       "4            San Jose, CA           915          1035   N                80   \n",
       "...                   ...           ...           ...  ..               ...   \n",
       "150618       New York, NY          1755          1952   N               117   \n",
       "150619       New York, NY           600           759   N               119   \n",
       "150620   Fayetteville, AR          1715          1816   N               121   \n",
       "150621        Atlanta, GA          1851          2145   N               114   \n",
       "150622       New York, NY           600           741   N               101   \n",
       "\n",
       "        flights  distance  \n",
       "0             1       363  \n",
       "1             1       363  \n",
       "2             1       333  \n",
       "3             1       333  \n",
       "4             1       333  \n",
       "...         ...       ...  \n",
       "150618        1       509  \n",
       "150619        1       610  \n",
       "150620        1       589  \n",
       "150621        1       589  \n",
       "150622        1       269  \n",
       "\n",
       "[150623 rows x 20 columns]"
      ]
     },
     "execution_count": 18,
     "metadata": {},
     "output_type": "execute_result"
    }
   ],
   "source": [
    "submission_data"
   ]
  },
  {
   "cell_type": "code",
   "execution_count": 6,
   "id": "e215d365-4a94-446b-9394-fd2566a73d9c",
   "metadata": {},
   "outputs": [
    {
     "data": {
      "text/plain": [
       "Index(['fl_date', 'mkt_unique_carrier', 'branded_code_share', 'mkt_carrier',\n",
       "       'mkt_carrier_fl_num', 'op_unique_carrier', 'tail_num',\n",
       "       'op_carrier_fl_num', 'origin_airport_id', 'origin', 'origin_city_name',\n",
       "       'dest_airport_id', 'dest', 'dest_city_name', 'crs_dep_time',\n",
       "       'crs_arr_time', 'dup', 'crs_elapsed_time', 'flights', 'distance'],\n",
       "      dtype='object')"
      ]
     },
     "execution_count": 6,
     "metadata": {},
     "output_type": "execute_result"
    }
   ],
   "source": [
    "submission_data.columns"
   ]
  },
  {
   "cell_type": "code",
   "execution_count": 3,
   "id": "8c09aa44-d6c5-4e89-a2c2-4cb95b749ff0",
   "metadata": {},
   "outputs": [],
   "source": [
    "bigdf = pd.read_csv(\"C:/Users/zain_/LHL/Midterm/mid-term-project-I/fulldf.csv\")"
   ]
  },
  {
   "cell_type": "code",
   "execution_count": 9,
   "id": "75fe2cc0-815a-4a87-9c1c-f8eaabf5d8dc",
   "metadata": {},
   "outputs": [],
   "source": [
    "city_names = bigdf['origin_city_name']\n",
    "flight_date = bigdf['fl_date']"
   ]
  },
  {
   "cell_type": "code",
   "execution_count": 5,
   "id": "c1d86126-fb06-40ad-a765-f17aa837729d",
   "metadata": {},
   "outputs": [],
   "source": [
    "weather_key = os.environ[\"WETH_API\"]"
   ]
  },
  {
   "cell_type": "code",
   "execution_count": 15,
   "id": "cb952c5c-1150-4322-befd-60ae82813cf6",
   "metadata": {},
   "outputs": [],
   "source": [
    "jsonlist = []\n",
    "i=0\n",
    "try:\n",
    "    for ele in city_names:\n",
    "        url = 'http://api.weatherapi.com/v1/current.json'\n",
    "        params = {'key': weather_key, 'q':ele, 'dt':flight_date[i]}\n",
    "        response = re.get(url, params = params)\n",
    "        i+=1\n",
    "        b = response.json()\n",
    "        jsonlist.append(b)\n",
    "    conditions = []\n",
    "    for ele in jsonlist:\n",
    "        conditions.append(ele['current']['condition']['text'])\n",
    "    bigdf['weather_status'] = conditions\n",
    "except:\n",
    "    pass"
   ]
  },
  {
   "cell_type": "code",
   "execution_count": 20,
   "id": "1855209b-3abd-496b-b75a-62769309e43f",
   "metadata": {},
   "outputs": [],
   "source": [
    "conditions = []\n",
    "for ele in jsonlist:\n",
    "    conditions.append(ele['current']['condition']['text'])"
   ]
  },
  {
   "cell_type": "code",
   "execution_count": 53,
   "id": "3d39addf-644f-4d7c-b44b-3f21fa290282",
   "metadata": {},
   "outputs": [
    {
     "data": {
      "text/plain": [
       "Counter({'Sunny': 25148,\n",
       "         'Partly cloudy': 34447,\n",
       "         'Overcast': 3180,\n",
       "         'Clear': 5865,\n",
       "         'Mist': 753,\n",
       "         'Light rain': 158,\n",
       "         'Fog': 24,\n",
       "         'Patchy rain possible': 11,\n",
       "         'Moderate or heavy rain with thunder': 64,\n",
       "         'Heavy rain': 10,\n",
       "         'Patchy light rain with thunder': 92,\n",
       "         'Light rain shower': 2,\n",
       "         'Moderate rain': 1,\n",
       "         'Thundery outbreaks possible': 8})"
      ]
     },
     "execution_count": 53,
     "metadata": {},
     "output_type": "execute_result"
    }
   ],
   "source": [
    "Counter(conditions)"
   ]
  },
  {
   "cell_type": "code",
   "execution_count": 78,
   "id": "30c9a7a8-8c96-47ca-966f-2137903dfbce",
   "metadata": {},
   "outputs": [],
   "source": [
    "#any types with low counts merge with similar category\n",
    "#make into a function, replace dataframe column with new values\n",
    "adjusted_conditions = []\n",
    "conditions = [x.lower() for x in conditions]\n",
    "for ele in conditions:\n",
    "    if 'fog' in ele:\n",
    "        adjusted_conditions.append('mist')\n",
    "    elif 'rain' in ele:\n",
    "        adjusted_conditions.append('rain')\n",
    "    elif 'thunder' in ele:\n",
    "        adjusted_conditions.append('thunder')\n",
    "    elif 'snow' in ele:\n",
    "        adjusted_conditions.append('rain')\n",
    "    elif 'sunny' in ele:\n",
    "        adjusted_conditions.append('clear')\n",
    "    else:\n",
    "        adjusted_conditions.append(ele)"
   ]
  },
  {
   "cell_type": "code",
   "execution_count": 80,
   "id": "50388e7e-3c80-4493-8178-db982f704c63",
   "metadata": {},
   "outputs": [
    {
     "data": {
      "text/plain": [
       "{'clear', 'mist', 'overcast', 'partly cloudy', 'rain', 'thunder'}"
      ]
     },
     "execution_count": 80,
     "metadata": {},
     "output_type": "execute_result"
    }
   ],
   "source": [
    "#data for one hot encoding\n",
    "set(adjusted_conditions)"
   ]
  },
  {
   "cell_type": "code",
   "execution_count": 60,
   "id": "76650a39-8c3c-404b-83d5-81adeb9caa78",
   "metadata": {},
   "outputs": [
    {
     "data": {
      "text/plain": [
       "{'Clear',\n",
       " 'Fog',\n",
       " 'Heavy rain',\n",
       " 'Light rain',\n",
       " 'Light rain shower',\n",
       " 'Mist',\n",
       " 'Moderate or heavy rain with thunder',\n",
       " 'Moderate rain',\n",
       " 'Overcast',\n",
       " 'Partly cloudy',\n",
       " 'Patchy light rain with thunder',\n",
       " 'Patchy rain possible',\n",
       " 'Sunny',\n",
       " 'Thundery outbreaks possible'}"
      ]
     },
     "execution_count": 60,
     "metadata": {},
     "output_type": "execute_result"
    }
   ],
   "source": [
    "set(conditions)"
   ]
  },
  {
   "cell_type": "code",
   "execution_count": 39,
   "id": "03919f69-9ea6-440c-b4e7-64c611405a94",
   "metadata": {},
   "outputs": [
    {
     "data": {
      "text/plain": [
       "Counter({'Sunny': 25148,\n",
       "         'Partly cloudy': 34447,\n",
       "         'Overcast': 3180,\n",
       "         'Clear': 5865,\n",
       "         'Mist': 753,\n",
       "         'Light rain': 158,\n",
       "         'Fog': 24,\n",
       "         'Patchy rain possible': 11,\n",
       "         'Moderate or heavy rain with thunder': 64,\n",
       "         'Heavy rain': 10,\n",
       "         'Patchy light rain with thunder': 92,\n",
       "         'Light rain shower': 2,\n",
       "         'Moderate rain': 1,\n",
       "         'Thundery outbreaks possible': 8})"
      ]
     },
     "execution_count": 39,
     "metadata": {},
     "output_type": "execute_result"
    }
   ],
   "source": [
    "Counter(conditions)"
   ]
  },
  {
   "cell_type": "code",
   "execution_count": 30,
   "id": "a7d3d23a-2b85-4cc3-aa05-afa8d72d7670",
   "metadata": {},
   "outputs": [],
   "source": [
    "weather_df = bigdf[0:69763]"
   ]
  },
  {
   "cell_type": "code",
   "execution_count": 31,
   "id": "544570fb-e5ea-4b9f-a145-6967cebead30",
   "metadata": {},
   "outputs": [
    {
     "name": "stderr",
     "output_type": "stream",
     "text": [
      "C:\\Users\\zain_\\AppData\\Local\\Temp\\ipykernel_8636\\2237297297.py:1: SettingWithCopyWarning: \n",
      "A value is trying to be set on a copy of a slice from a DataFrame.\n",
      "Try using .loc[row_indexer,col_indexer] = value instead\n",
      "\n",
      "See the caveats in the documentation: https://pandas.pydata.org/pandas-docs/stable/user_guide/indexing.html#returning-a-view-versus-a-copy\n",
      "  weather_df['weather_condition'] = conditions\n"
     ]
    }
   ],
   "source": [
    "weather_df['weather_condition'] = conditions"
   ]
  },
  {
   "cell_type": "code",
   "execution_count": 32,
   "id": "1b7c1516-ea01-4a8c-a0b7-c6e76256a598",
   "metadata": {},
   "outputs": [
    {
     "data": {
      "text/plain": [
       "0                Sunny\n",
       "1                Sunny\n",
       "2        Partly cloudy\n",
       "3             Overcast\n",
       "4        Partly cloudy\n",
       "             ...      \n",
       "69758            Sunny\n",
       "69759    Partly cloudy\n",
       "69760    Partly cloudy\n",
       "69761            Sunny\n",
       "69762            Sunny\n",
       "Name: weather_condition, Length: 69763, dtype: object"
      ]
     },
     "execution_count": 32,
     "metadata": {},
     "output_type": "execute_result"
    }
   ],
   "source": [
    "weather_df['weather_condition']"
   ]
  },
  {
   "cell_type": "code",
   "execution_count": 81,
   "id": "36b4fbd1-e30d-48c9-8ad5-45e0b8239139",
   "metadata": {},
   "outputs": [],
   "source": [
    "main_df = weather_df"
   ]
  },
  {
   "cell_type": "code",
   "execution_count": 82,
   "id": "d65863f2-7b49-461e-8db5-164a05e507ee",
   "metadata": {},
   "outputs": [],
   "source": [
    "main_df.to_csv('main_df.csv',index=False)"
   ]
  }
 ],
 "metadata": {
  "kernelspec": {
   "display_name": "Python 3 (ipykernel)",
   "language": "python",
   "name": "python3"
  },
  "language_info": {
   "codemirror_mode": {
    "name": "ipython",
    "version": 3
   },
   "file_extension": ".py",
   "mimetype": "text/x-python",
   "name": "python",
   "nbconvert_exporter": "python",
   "pygments_lexer": "ipython3",
   "version": "3.9.12"
  }
 },
 "nbformat": 4,
 "nbformat_minor": 5
}
