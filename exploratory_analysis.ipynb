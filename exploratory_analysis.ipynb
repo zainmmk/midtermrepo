{
 "cells": [
  {
   "cell_type": "markdown",
   "metadata": {},
   "source": [
    "## Exploratory Data Analysis\n",
    "\n",
    "Use this notebook to get familiar with the datasets we have. There is 10 questions we need to answer during the EDA.\n",
    "\n",
    "\n",
    "We shouldn't limit our EDA to these 10 questions. Let's be creative :)."
   ]
  },
  {
   "cell_type": "code",
   "execution_count": 1,
   "metadata": {},
   "outputs": [],
   "source": [
    "import pandas as pd\n",
    "import psycopg2\n",
    "from psycopg2 import Error\n",
    "import requests as re\n",
    "from scipy import stats\n",
    "from matplotlib import pyplot\n",
    "import numpy as np\n",
    "import datetime\n",
    "from collections import Counter, OrderedDict\n",
    "import os\n",
    "import warnings\n",
    "warnings.filterwarnings(\"ignore\")\n",
    "import matplotlib.pyplot as plt"
   ]
  },
  {
   "cell_type": "code",
   "execution_count": 255,
   "metadata": {},
   "outputs": [],
   "source": [
    "connection = psycopg2.connect(user=\"lhl_student\",\n",
    "                                  password=\"lhl_student\",\n",
    "                                  host=\"lhl-data-bootcamp.crzjul5qln0e.ca-central-1.rds.amazonaws.com\",\n",
    "                                  port=\"5432\",\n",
    "                                  database=\"mid_term_project\")\n",
    "cursor=connection.cursor()"
   ]
  },
  {
   "cell_type": "code",
   "execution_count": 129,
   "metadata": {},
   "outputs": [],
   "source": [
    "#what columns are in the flights dataset\n",
    "flights_columns = \"select * from flights limit 10\"\n",
    "cursor.execute(flights_columns)\n",
    "flights_columns = pd.read_sql_query(flights_columns,connection)"
   ]
  },
  {
   "cell_type": "code",
   "execution_count": 130,
   "metadata": {},
   "outputs": [
    {
     "data": {
      "text/plain": [
       "Index(['fl_date', 'mkt_unique_carrier', 'branded_code_share', 'mkt_carrier',\n",
       "       'mkt_carrier_fl_num', 'op_unique_carrier', 'tail_num',\n",
       "       'op_carrier_fl_num', 'origin_airport_id', 'origin', 'origin_city_name',\n",
       "       'dest_airport_id', 'dest', 'dest_city_name', 'crs_dep_time', 'dep_time',\n",
       "       'dep_delay', 'taxi_out', 'wheels_off', 'wheels_on', 'taxi_in',\n",
       "       'crs_arr_time', 'arr_time', 'arr_delay', 'cancelled',\n",
       "       'cancellation_code', 'diverted', 'dup', 'crs_elapsed_time',\n",
       "       'actual_elapsed_time', 'air_time', 'flights', 'distance',\n",
       "       'carrier_delay', 'weather_delay', 'nas_delay', 'security_delay',\n",
       "       'late_aircraft_delay', 'first_dep_time', 'total_add_gtime',\n",
       "       'longest_add_gtime', 'no_name'],\n",
       "      dtype='object')"
      ]
     },
     "execution_count": 130,
     "metadata": {},
     "output_type": "execute_result"
    }
   ],
   "source": [
    "flights_columns.columns"
   ]
  },
  {
   "cell_type": "code",
   "execution_count": 126,
   "metadata": {},
   "outputs": [],
   "source": [
    "#columns in passengers\n",
    "passengers_columns = \"select * from passengers limit 10\"\n",
    "cursor.execute(passengers_columns)\n",
    "passengers_columns = pd.read_sql_query(passengers_columns,connection)"
   ]
  },
  {
   "cell_type": "code",
   "execution_count": 128,
   "metadata": {},
   "outputs": [
    {
     "data": {
      "text/plain": [
       "Index(['departures_scheduled', 'departures_performed', 'payload', 'seats',\n",
       "       'passengers', 'freight', 'mail', 'distance', 'ramp_to_ramp', 'air_time',\n",
       "       'unique_carrier', 'airline_id', 'unique_carrier_name', 'region',\n",
       "       'carrier', 'carrier_name', 'carrier_group', 'carrier_group_new',\n",
       "       'origin_airport_id', 'origin_city_market_id', 'origin',\n",
       "       'origin_city_name', 'origin_country', 'origin_country_name',\n",
       "       'dest_airport_id', 'dest_city_market_id', 'dest', 'dest_city_name',\n",
       "       'dest_country', 'dest_country_name', 'aircraft_group', 'aircraft_type',\n",
       "       'aircraft_config', 'year', 'month', 'distance_group', 'class',\n",
       "       'data_source'],\n",
       "      dtype='object')"
      ]
     },
     "execution_count": 128,
     "metadata": {},
     "output_type": "execute_result"
    }
   ],
   "source": [
    "passengers_columns.columns"
   ]
  },
  {
   "cell_type": "code",
   "execution_count": 131,
   "metadata": {},
   "outputs": [],
   "source": [
    "#columns in fuel_comsumption\n",
    "fuel_comsumption_columns = \"select * from fuel_comsumption limit 10\"\n",
    "cursor.execute(fuel_comsumption_columns)\n",
    "fuel_comsumption_columns = pd.read_sql_query(fuel_comsumption_columns,connection)"
   ]
  },
  {
   "cell_type": "code",
   "execution_count": 132,
   "metadata": {},
   "outputs": [
    {
     "data": {
      "text/plain": [
       "Index(['month', 'airline_id', 'unique_carrier', 'carrier', 'carrier_name',\n",
       "       'carrier_group_new', 'sdomt_gallons', 'satl_gallons', 'spac_gallons',\n",
       "       'slat_gallons', 'sint_gallons', 'ts_gallons', 'tdomt_gallons',\n",
       "       'tint_gallons', 'total_gallons', 'sdomt_cost', 'satl_cost', 'spac_cost',\n",
       "       'slat_cost', 'sint_cost', 'ts_cost', 'tdomt_cost', 'tint_cost',\n",
       "       'total_cost', 'year'],\n",
       "      dtype='object')"
      ]
     },
     "execution_count": 132,
     "metadata": {},
     "output_type": "execute_result"
    }
   ],
   "source": [
    "fuel_comsumption_columns.columns"
   ]
  },
  {
   "cell_type": "markdown",
   "metadata": {},
   "source": [
    "#### **Task 1**: Test the hypothesis that the delay is from Normal distribution. and that **mean** of the delay is 0. Be careful about the outliers."
   ]
  },
  {
   "cell_type": "code",
   "execution_count": 60,
   "metadata": {},
   "outputs": [],
   "source": [
    "dly = 'select arr_delay from flights'\n",
    "cursor.execute(dly)"
   ]
  },
  {
   "cell_type": "code",
   "execution_count": 125,
   "metadata": {},
   "outputs": [],
   "source": [
    "dlay = pd.read_sql_query(dly,connection)"
   ]
  },
  {
   "cell_type": "code",
   "execution_count": 75,
   "metadata": {},
   "outputs": [],
   "source": [
    "dlay = dlay.fillna(value=0.0)"
   ]
  },
  {
   "cell_type": "code",
   "execution_count": 62,
   "metadata": {},
   "outputs": [
    {
     "data": {
      "text/plain": [
       "(array([1.0000000e+00, 1.0000000e+00, 5.3588930e+06, 1.0230152e+07,\n",
       "        1.9415000e+04, 6.5060000e+03, 7.1100000e+02, 5.0000000e+01,\n",
       "        5.0000000e+00, 7.0000000e+00]),\n",
       " array([-1290. ,  -863.7,  -437.4,   -11.1,   415.2,   841.5,  1267.8,\n",
       "         1694.1,  2120.4,  2546.7,  2973. ]),\n",
       " <BarContainer object of 10 artists>)"
      ]
     },
     "execution_count": 62,
     "metadata": {},
     "output_type": "execute_result"
    },
    {
     "data": {
      "image/png": "[encoded data removed]",
      "text/plain": [
       "<Figure size 432x288 with 1 Axes>"
      ]
     },
     "metadata": {
      "needs_background": "light"
     },
     "output_type": "display_data"
    }
   ],
   "source": [
    "#histogram after filling nan values (at this point nan means 0) but before outlier detection\n",
    "pyplot.hist(dlay)"
   ]
  },
  {
   "cell_type": "code",
   "execution_count": 76,
   "metadata": {},
   "outputs": [
    {
     "data": {
      "text/plain": [
       "arr_delay    5.368754\n",
       "dtype: float64"
      ]
     },
     "execution_count": 76,
     "metadata": {},
     "output_type": "execute_result"
    }
   ],
   "source": [
    "dlay.mean()"
   ]
  },
  {
   "cell_type": "code",
   "execution_count": 77,
   "metadata": {},
   "outputs": [
    {
     "data": {
      "text/plain": [
       "arr_delay    2973.0\n",
       "dtype: float64"
      ]
     },
     "execution_count": 77,
     "metadata": {},
     "output_type": "execute_result"
    }
   ],
   "source": [
    "dlay.max()"
   ]
  },
  {
   "cell_type": "code",
   "execution_count": 78,
   "metadata": {},
   "outputs": [
    {
     "data": {
      "text/plain": [
       "arr_delay   -1290.0\n",
       "dtype: float64"
      ]
     },
     "execution_count": 78,
     "metadata": {},
     "output_type": "execute_result"
    }
   ],
   "source": [
    "dlay.min()"
   ]
  },
  {
   "cell_type": "code",
   "execution_count": 79,
   "metadata": {},
   "outputs": [],
   "source": [
    "#outlier detection\n",
    "for x in dlay:\n",
    "    q75,q25 = np.percentile(dlay,[75,25])\n",
    "    intr_qr = q75-q25\n",
    " \n",
    "    max = q75+(1.5*intr_qr)\n",
    "    min = q25-(1.5*intr_qr)\n",
    " \n",
    "    dlay.loc[dlay[x] < min,x] = np.nan\n",
    "    dlay.loc[dlay[x] > max,x] = np.nan"
   ]
  },
  {
   "cell_type": "code",
   "execution_count": 80,
   "metadata": {},
   "outputs": [
    {
     "data": {
      "text/plain": [
       "arr_delay    40.0\n",
       "dtype: float64"
      ]
     },
     "execution_count": 80,
     "metadata": {},
     "output_type": "execute_result"
    }
   ],
   "source": [
    "dlay.max()"
   ]
  },
  {
   "cell_type": "code",
   "execution_count": 81,
   "metadata": {},
   "outputs": [
    {
     "data": {
      "text/plain": [
       "arr_delay   -48.0\n",
       "dtype: float64"
      ]
     },
     "execution_count": 81,
     "metadata": {},
     "output_type": "execute_result"
    }
   ],
   "source": [
    "dlay.min()"
   ]
  },
  {
   "cell_type": "code",
   "execution_count": 82,
   "metadata": {},
   "outputs": [
    {
     "data": {
      "text/plain": [
       "(array([  64896.,  317296., 1266329., 3236013., 3550695., 2970889.,\n",
       "        1387085.,  780087.,  492937.,  340585.]),\n",
       " array([-48. , -39.2, -30.4, -21.6, -12.8,  -4. ,   4.8,  13.6,  22.4,\n",
       "         31.2,  40. ]),\n",
       " <BarContainer object of 10 artists>)"
      ]
     },
     "execution_count": 82,
     "metadata": {},
     "output_type": "execute_result"
    },
    {
     "data": {
      "image/png": "[encoded data removed]",
      "text/plain": [
       "<Figure size 432x288 with 1 Axes>"
      ]
     },
     "metadata": {
      "needs_background": "light"
     },
     "output_type": "display_data"
    }
   ],
   "source": [
    "#not filling nan in because now those are outliers, not zeros\n",
    "pyplot.hist(dlay)"
   ]
  },
  {
   "cell_type": "code",
   "execution_count": 83,
   "metadata": {},
   "outputs": [
    {
     "data": {
      "text/plain": [
       "arr_delay   -5.530624\n",
       "dtype: float64"
      ]
     },
     "execution_count": 83,
     "metadata": {},
     "output_type": "execute_result"
    }
   ],
   "source": [
    "dlay.mean()"
   ]
  },
  {
   "cell_type": "code",
   "execution_count": 52,
   "metadata": {},
   "outputs": [],
   "source": [
    "#mean isnt zero, but with outlier detection it looks to be close to a normal distribution"
   ]
  },
  {
   "cell_type": "markdown",
   "metadata": {},
   "source": [
    "#### **Task 2**: Is average/median monthly delay different during the year? If yes, which are months with the biggest delays and what could be the reason?"
   ]
  },
  {
   "cell_type": "code",
   "execution_count": 84,
   "metadata": {},
   "outputs": [],
   "source": [
    "date_dly = 'select fl_date, arr_delay from flights'\n",
    "cursor.execute(date_dly)"
   ]
  },
  {
   "cell_type": "code",
   "execution_count": 126,
   "metadata": {},
   "outputs": [],
   "source": [
    "date_dlay = pd.read_sql_query(date_dly,connection)"
   ]
  },
  {
   "cell_type": "code",
   "execution_count": 98,
   "metadata": {},
   "outputs": [
    {
     "data": {
      "text/plain": [
       "fl_date      datetime64[ns]\n",
       "arr_delay           float64\n",
       "dtype: object"
      ]
     },
     "execution_count": 98,
     "metadata": {},
     "output_type": "execute_result"
    }
   ],
   "source": [
    "date_dlay.dtypes"
   ]
  },
  {
   "cell_type": "code",
   "execution_count": 102,
   "metadata": {},
   "outputs": [],
   "source": [
    "date_dlay['fl_date']= pd.to_datetime(date_dlay['fl_date'])"
   ]
  },
  {
   "cell_type": "code",
   "execution_count": 115,
   "metadata": {},
   "outputs": [],
   "source": [
    "#filling the nan in arrivals delay\n",
    "date_dlay = date_dlay.fillna(value=0.0)"
   ]
  },
  {
   "cell_type": "code",
   "execution_count": 118,
   "metadata": {},
   "outputs": [
    {
     "data": {
      "text/html": [
       "<div>\n",
       "<style scoped>\n",
       "    .dataframe tbody tr th:only-of-type {\n",
       "        vertical-align: middle;\n",
       "    }\n",
       "\n",
       "    .dataframe tbody tr th {\n",
       "        vertical-align: top;\n",
       "    }\n",
       "\n",
       "    .dataframe thead th {\n",
       "        text-align: right;\n",
       "    }\n",
       "</style>\n",
       "<table border=\"1\" class=\"dataframe\">\n",
       "  <thead>\n",
       "    <tr style=\"text-align: right;\">\n",
       "      <th></th>\n",
       "      <th>arr_delay</th>\n",
       "    </tr>\n",
       "    <tr>\n",
       "      <th>fl_date</th>\n",
       "      <th></th>\n",
       "    </tr>\n",
       "  </thead>\n",
       "  <tbody>\n",
       "    <tr>\n",
       "      <th>1</th>\n",
       "      <td>3.887832</td>\n",
       "    </tr>\n",
       "    <tr>\n",
       "      <th>2</th>\n",
       "      <td>6.552948</td>\n",
       "    </tr>\n",
       "    <tr>\n",
       "      <th>3</th>\n",
       "      <td>2.744758</td>\n",
       "    </tr>\n",
       "    <tr>\n",
       "      <th>4</th>\n",
       "      <td>4.076403</td>\n",
       "    </tr>\n",
       "    <tr>\n",
       "      <th>5</th>\n",
       "      <td>6.382056</td>\n",
       "    </tr>\n",
       "    <tr>\n",
       "      <th>6</th>\n",
       "      <td>10.170076</td>\n",
       "    </tr>\n",
       "    <tr>\n",
       "      <th>7</th>\n",
       "      <td>8.770911</td>\n",
       "    </tr>\n",
       "    <tr>\n",
       "      <th>8</th>\n",
       "      <td>8.699921</td>\n",
       "    </tr>\n",
       "    <tr>\n",
       "      <th>9</th>\n",
       "      <td>1.677649</td>\n",
       "    </tr>\n",
       "    <tr>\n",
       "      <th>10</th>\n",
       "      <td>2.824131</td>\n",
       "    </tr>\n",
       "    <tr>\n",
       "      <th>11</th>\n",
       "      <td>2.957333</td>\n",
       "    </tr>\n",
       "    <tr>\n",
       "      <th>12</th>\n",
       "      <td>5.041220</td>\n",
       "    </tr>\n",
       "  </tbody>\n",
       "</table>\n",
       "</div>"
      ],
      "text/plain": [
       "         arr_delay\n",
       "fl_date           \n",
       "1         3.887832\n",
       "2         6.552948\n",
       "3         2.744758\n",
       "4         4.076403\n",
       "5         6.382056\n",
       "6        10.170076\n",
       "7         8.770911\n",
       "8         8.699921\n",
       "9         1.677649\n",
       "10        2.824131\n",
       "11        2.957333\n",
       "12        5.041220"
      ]
     },
     "execution_count": 118,
     "metadata": {},
     "output_type": "execute_result"
    }
   ],
   "source": [
    "date_dlay.groupby(date_dlay['fl_date'].dt.month).mean()"
   ]
  },
  {
   "cell_type": "code",
   "execution_count": 127,
   "metadata": {},
   "outputs": [],
   "source": [
    "#june largest average delay, could be due to vacation season? all the 3 summer months off primary school are high, winter picks up a bit too (maybe due to weather in winter)"
   ]
  },
  {
   "cell_type": "markdown",
   "metadata": {},
   "source": [
    "#### **Task 3**: Does the weather affect the delay? \n",
    "Use the API to pull the weather information for flights. There is no need to get weather for ALL flights. We can choose the right representative sample. Let's focus on four weather types:\n",
    "- sunny\n",
    "- cloudy\n",
    "- rainy\n",
    "- snow.\n",
    "Test the hypothesis that these 4 delays are from the same distribution. If they are not, which ones are significantly different?"
   ]
  },
  {
   "cell_type": "code",
   "execution_count": null,
   "metadata": {},
   "outputs": [],
   "source": [
    "#tried numerous different times, even selecting specifically winter months to pull weather information from but could not get any results with snow"
   ]
  },
  {
   "cell_type": "code",
   "execution_count": 3,
   "metadata": {},
   "outputs": [],
   "source": [
    "datasets = ['apr.csv','aug.csv','dec.csv','feb.csv','jan.csv','july.csv','june.csv','mar.csv','may.csv','nov.csv','oct.csv','sep.csv']\n",
    "names = ['apr','aug','dec','feb','jan','july','june','mar','may','nov','octo','sep']"
   ]
  },
  {
   "cell_type": "code",
   "execution_count": 4,
   "metadata": {},
   "outputs": [],
   "source": [
    "i = 0\n",
    "for ele in datasets:\n",
    "    vars()[names[i]] = pd.read_csv(\"C:/Users/zain_/LHL/Midterm/mid-term-project-I/datasets per month/\"+ele)\n",
    "    i+=1"
   ]
  },
  {
   "cell_type": "code",
   "execution_count": 5,
   "metadata": {},
   "outputs": [],
   "source": [
    "fulldf =  pd.concat([apr,aug,dec,feb,jan,july,june,mar,may,nov,octo,sep], ignore_index=True)"
   ]
  },
  {
   "cell_type": "code",
   "execution_count": 8,
   "metadata": {},
   "outputs": [],
   "source": [
    "#saving df for later use as well\n",
    "fulldf.to_csv('fulldf.csv',index=False)"
   ]
  },
  {
   "cell_type": "code",
   "execution_count": 9,
   "metadata": {},
   "outputs": [],
   "source": [
    "#dataset with 10,000 rows per month as it was taking an extremely long time for me to pull this amount from the database myself"
   ]
  },
  {
   "cell_type": "code",
   "execution_count": 381,
   "metadata": {},
   "outputs": [],
   "source": [
    "fulldf_sample = fulldf.sample(frac=1)"
   ]
  },
  {
   "cell_type": "code",
   "execution_count": 431,
   "metadata": {},
   "outputs": [],
   "source": [
    "weather_sample = fulldf[fulldf['fl_date']=='2019-11-01']"
   ]
  },
  {
   "cell_type": "code",
   "execution_count": 432,
   "metadata": {},
   "outputs": [],
   "source": [
    "weather_sample=weather_sample.reset_index()"
   ]
  },
  {
   "cell_type": "code",
   "execution_count": 433,
   "metadata": {},
   "outputs": [],
   "source": [
    "weather_sample = weather_sample.drop('index',axis=1)"
   ]
  },
  {
   "cell_type": "code",
   "execution_count": 435,
   "metadata": {},
   "outputs": [],
   "source": [
    "weather_sub = weather_sample[0:1000]"
   ]
  },
  {
   "cell_type": "code",
   "execution_count": 383,
   "metadata": {},
   "outputs": [],
   "source": [
    "weather_sample = weather_sample.reset_index()\n",
    "weather_sample = weather_sample.drop('index',axis=1)"
   ]
  },
  {
   "cell_type": "code",
   "execution_count": 436,
   "metadata": {},
   "outputs": [],
   "source": [
    "city_names = weather_sub['origin_city_name']\n",
    "flight_date = weather_sub['fl_date']"
   ]
  },
  {
   "cell_type": "code",
   "execution_count": 399,
   "metadata": {},
   "outputs": [],
   "source": [
    "weather_key = os.environ[\"WETH_API\"]"
   ]
  },
  {
   "cell_type": "code",
   "execution_count": 438,
   "metadata": {},
   "outputs": [],
   "source": [
    "jsonlist = []\n",
    "i=0\n",
    "for ele in city_names:\n",
    "    url = 'http://api.weatherapi.com/v1/current.json'\n",
    "    params = {'key': weather_key, 'q':ele, 'dt':flight_date[i]}\n",
    "    response = re.get(url, params = params)\n",
    "    i+=1\n",
    "    b = response.json()\n",
    "    jsonlist.append(b)\n",
    "conditions = []\n",
    "for ele in jsonlist:\n",
    "    conditions.append(ele['current']['condition']['text'])\n",
    "weather_sub['weather_status'] = conditions"
   ]
  },
  {
   "cell_type": "code",
   "execution_count": 439,
   "metadata": {},
   "outputs": [
    {
     "data": {
      "text/plain": [
       "Counter({'Sunny': 289,\n",
       "         'Partly cloudy': 579,\n",
       "         'Overcast': 118,\n",
       "         'Moderate or heavy rain with thunder': 3,\n",
       "         'Patchy light rain with thunder': 3,\n",
       "         'Light rain': 8})"
      ]
     },
     "execution_count": 439,
     "metadata": {},
     "output_type": "execute_result"
    }
   ],
   "source": [
    "#showing amount and all kinds of weather in the dataset\n",
    "Counter(weather_sub['weather_status'])"
   ]
  },
  {
   "cell_type": "markdown",
   "metadata": {},
   "source": [
    "#### **Task 4**: How taxi times changing during the day? Does higher traffic lead to bigger taxi times?"
   ]
  },
  {
   "cell_type": "code",
   "execution_count": 15,
   "metadata": {},
   "outputs": [],
   "source": [
    "taxi_amount_in = \"select fl_date, dep_time, COUNT(dep_time) as flights_leaving, SUM(taxi_out) from flights group by fl_date, dep_time\"\n",
    "cursor.execute(taxi_amount_in)"
   ]
  },
  {
   "cell_type": "code",
   "execution_count": 16,
   "metadata": {},
   "outputs": [],
   "source": [
    "taxi_in = pd.read_sql_query(taxi_amount_in,connection)"
   ]
  },
  {
   "cell_type": "code",
   "execution_count": 68,
   "metadata": {},
   "outputs": [
    {
     "data": {
      "text/html": [
       "<div>\n",
       "<style scoped>\n",
       "    .dataframe tbody tr th:only-of-type {\n",
       "        vertical-align: middle;\n",
       "    }\n",
       "\n",
       "    .dataframe tbody tr th {\n",
       "        vertical-align: top;\n",
       "    }\n",
       "\n",
       "    .dataframe thead th {\n",
       "        text-align: right;\n",
       "    }\n",
       "</style>\n",
       "<table border=\"1\" class=\"dataframe\">\n",
       "  <thead>\n",
       "    <tr style=\"text-align: right;\">\n",
       "      <th></th>\n",
       "      <th>fl_date</th>\n",
       "      <th>dep_time</th>\n",
       "      <th>flights_leaving</th>\n",
       "      <th>sum</th>\n",
       "    </tr>\n",
       "  </thead>\n",
       "  <tbody>\n",
       "    <tr>\n",
       "      <th>0</th>\n",
       "      <td>2018-01-01</td>\n",
       "      <td>1.0</td>\n",
       "      <td>5</td>\n",
       "      <td>88.0</td>\n",
       "    </tr>\n",
       "    <tr>\n",
       "      <th>1</th>\n",
       "      <td>2018-01-01</td>\n",
       "      <td>2.0</td>\n",
       "      <td>1</td>\n",
       "      <td>17.0</td>\n",
       "    </tr>\n",
       "    <tr>\n",
       "      <th>2</th>\n",
       "      <td>2018-01-01</td>\n",
       "      <td>3.0</td>\n",
       "      <td>1</td>\n",
       "      <td>26.0</td>\n",
       "    </tr>\n",
       "    <tr>\n",
       "      <th>3</th>\n",
       "      <td>2018-01-01</td>\n",
       "      <td>4.0</td>\n",
       "      <td>3</td>\n",
       "      <td>29.0</td>\n",
       "    </tr>\n",
       "    <tr>\n",
       "      <th>4</th>\n",
       "      <td>2018-01-01</td>\n",
       "      <td>5.0</td>\n",
       "      <td>3</td>\n",
       "      <td>59.0</td>\n",
       "    </tr>\n",
       "    <tr>\n",
       "      <th>...</th>\n",
       "      <td>...</td>\n",
       "      <td>...</td>\n",
       "      <td>...</td>\n",
       "      <td>...</td>\n",
       "    </tr>\n",
       "    <tr>\n",
       "      <th>902577</th>\n",
       "      <td>2019-12-31</td>\n",
       "      <td>2357.0</td>\n",
       "      <td>3</td>\n",
       "      <td>40.0</td>\n",
       "    </tr>\n",
       "    <tr>\n",
       "      <th>902578</th>\n",
       "      <td>2019-12-31</td>\n",
       "      <td>2358.0</td>\n",
       "      <td>5</td>\n",
       "      <td>119.0</td>\n",
       "    </tr>\n",
       "    <tr>\n",
       "      <th>902579</th>\n",
       "      <td>2019-12-31</td>\n",
       "      <td>2359.0</td>\n",
       "      <td>2</td>\n",
       "      <td>21.0</td>\n",
       "    </tr>\n",
       "    <tr>\n",
       "      <th>902580</th>\n",
       "      <td>2019-12-31</td>\n",
       "      <td>2400.0</td>\n",
       "      <td>1</td>\n",
       "      <td>36.0</td>\n",
       "    </tr>\n",
       "    <tr>\n",
       "      <th>902581</th>\n",
       "      <td>2019-12-31</td>\n",
       "      <td>NaN</td>\n",
       "      <td>0</td>\n",
       "      <td>NaN</td>\n",
       "    </tr>\n",
       "  </tbody>\n",
       "</table>\n",
       "<p>902582 rows × 4 columns</p>\n",
       "</div>"
      ],
      "text/plain": [
       "           fl_date  dep_time  flights_leaving    sum\n",
       "0       2018-01-01       1.0                5   88.0\n",
       "1       2018-01-01       2.0                1   17.0\n",
       "2       2018-01-01       3.0                1   26.0\n",
       "3       2018-01-01       4.0                3   29.0\n",
       "4       2018-01-01       5.0                3   59.0\n",
       "...            ...       ...              ...    ...\n",
       "902577  2019-12-31    2357.0                3   40.0\n",
       "902578  2019-12-31    2358.0                5  119.0\n",
       "902579  2019-12-31    2359.0                2   21.0\n",
       "902580  2019-12-31    2400.0                1   36.0\n",
       "902581  2019-12-31       NaN                0    NaN\n",
       "\n",
       "[902582 rows x 4 columns]"
      ]
     },
     "execution_count": 68,
     "metadata": {},
     "output_type": "execute_result"
    }
   ],
   "source": [
    "taxi_in"
   ]
  },
  {
   "cell_type": "code",
   "execution_count": 69,
   "metadata": {},
   "outputs": [],
   "source": [
    "taxi_times = taxi_in['dep_time']"
   ]
  },
  {
   "cell_type": "code",
   "execution_count": 76,
   "metadata": {},
   "outputs": [],
   "source": [
    "taxi_times = pd.DataFrame(taxi_times)"
   ]
  },
  {
   "cell_type": "code",
   "execution_count": 75,
   "metadata": {},
   "outputs": [],
   "source": [
    "taxi_times['sum'] = taxi_in['sum']"
   ]
  },
  {
   "cell_type": "code",
   "execution_count": 80,
   "metadata": {},
   "outputs": [],
   "source": [
    "taxi_times = taxi_times.dropna()"
   ]
  },
  {
   "cell_type": "code",
   "execution_count": 81,
   "metadata": {},
   "outputs": [
    {
     "data": {
      "text/html": [
       "<div>\n",
       "<style scoped>\n",
       "    .dataframe tbody tr th:only-of-type {\n",
       "        vertical-align: middle;\n",
       "    }\n",
       "\n",
       "    .dataframe tbody tr th {\n",
       "        vertical-align: top;\n",
       "    }\n",
       "\n",
       "    .dataframe thead th {\n",
       "        text-align: right;\n",
       "    }\n",
       "</style>\n",
       "<table border=\"1\" class=\"dataframe\">\n",
       "  <thead>\n",
       "    <tr style=\"text-align: right;\">\n",
       "      <th></th>\n",
       "      <th>dep_time</th>\n",
       "      <th>sum</th>\n",
       "    </tr>\n",
       "  </thead>\n",
       "  <tbody>\n",
       "    <tr>\n",
       "      <th>0</th>\n",
       "      <td>1.0</td>\n",
       "      <td>88.0</td>\n",
       "    </tr>\n",
       "    <tr>\n",
       "      <th>1</th>\n",
       "      <td>2.0</td>\n",
       "      <td>17.0</td>\n",
       "    </tr>\n",
       "    <tr>\n",
       "      <th>2</th>\n",
       "      <td>3.0</td>\n",
       "      <td>26.0</td>\n",
       "    </tr>\n",
       "    <tr>\n",
       "      <th>3</th>\n",
       "      <td>4.0</td>\n",
       "      <td>29.0</td>\n",
       "    </tr>\n",
       "    <tr>\n",
       "      <th>4</th>\n",
       "      <td>5.0</td>\n",
       "      <td>59.0</td>\n",
       "    </tr>\n",
       "    <tr>\n",
       "      <th>...</th>\n",
       "      <td>...</td>\n",
       "      <td>...</td>\n",
       "    </tr>\n",
       "    <tr>\n",
       "      <th>902576</th>\n",
       "      <td>2356.0</td>\n",
       "      <td>11.0</td>\n",
       "    </tr>\n",
       "    <tr>\n",
       "      <th>902577</th>\n",
       "      <td>2357.0</td>\n",
       "      <td>40.0</td>\n",
       "    </tr>\n",
       "    <tr>\n",
       "      <th>902578</th>\n",
       "      <td>2358.0</td>\n",
       "      <td>119.0</td>\n",
       "    </tr>\n",
       "    <tr>\n",
       "      <th>902579</th>\n",
       "      <td>2359.0</td>\n",
       "      <td>21.0</td>\n",
       "    </tr>\n",
       "    <tr>\n",
       "      <th>902580</th>\n",
       "      <td>2400.0</td>\n",
       "      <td>36.0</td>\n",
       "    </tr>\n",
       "  </tbody>\n",
       "</table>\n",
       "<p>901833 rows × 2 columns</p>\n",
       "</div>"
      ],
      "text/plain": [
       "       dep_time    sum\n",
       "0           1.0   88.0\n",
       "1           2.0   17.0\n",
       "2           3.0   26.0\n",
       "3           4.0   29.0\n",
       "4           5.0   59.0\n",
       "...         ...    ...\n",
       "902576   2356.0   11.0\n",
       "902577   2357.0   40.0\n",
       "902578   2358.0  119.0\n",
       "902579   2359.0   21.0\n",
       "902580   2400.0   36.0\n",
       "\n",
       "[901833 rows x 2 columns]"
      ]
     },
     "execution_count": 81,
     "metadata": {},
     "output_type": "execute_result"
    }
   ],
   "source": [
    "taxi_times"
   ]
  },
  {
   "cell_type": "code",
   "execution_count": 93,
   "metadata": {},
   "outputs": [],
   "source": [
    "taxi_times = taxi_times.groupby(['dep_time']).sum()"
   ]
  },
  {
   "cell_type": "code",
   "execution_count": 101,
   "metadata": {},
   "outputs": [],
   "source": [
    "taxi_times = taxi_times.reset_index()"
   ]
  },
  {
   "cell_type": "code",
   "execution_count": 102,
   "metadata": {},
   "outputs": [
    {
     "data": {
      "text/html": [
       "<div>\n",
       "<style scoped>\n",
       "    .dataframe tbody tr th:only-of-type {\n",
       "        vertical-align: middle;\n",
       "    }\n",
       "\n",
       "    .dataframe tbody tr th {\n",
       "        vertical-align: top;\n",
       "    }\n",
       "\n",
       "    .dataframe thead th {\n",
       "        text-align: right;\n",
       "    }\n",
       "</style>\n",
       "<table border=\"1\" class=\"dataframe\">\n",
       "  <thead>\n",
       "    <tr style=\"text-align: right;\">\n",
       "      <th></th>\n",
       "      <th>dep_time</th>\n",
       "      <th>sum</th>\n",
       "    </tr>\n",
       "  </thead>\n",
       "  <tbody>\n",
       "    <tr>\n",
       "      <th>0</th>\n",
       "      <td>1.0</td>\n",
       "      <td>29797.0</td>\n",
       "    </tr>\n",
       "    <tr>\n",
       "      <th>1</th>\n",
       "      <td>2.0</td>\n",
       "      <td>24181.0</td>\n",
       "    </tr>\n",
       "    <tr>\n",
       "      <th>2</th>\n",
       "      <td>3.0</td>\n",
       "      <td>24606.0</td>\n",
       "    </tr>\n",
       "    <tr>\n",
       "      <th>3</th>\n",
       "      <td>4.0</td>\n",
       "      <td>22507.0</td>\n",
       "    </tr>\n",
       "    <tr>\n",
       "      <th>4</th>\n",
       "      <td>5.0</td>\n",
       "      <td>21317.0</td>\n",
       "    </tr>\n",
       "    <tr>\n",
       "      <th>...</th>\n",
       "      <td>...</td>\n",
       "      <td>...</td>\n",
       "    </tr>\n",
       "    <tr>\n",
       "      <th>1435</th>\n",
       "      <td>2356.0</td>\n",
       "      <td>36740.0</td>\n",
       "    </tr>\n",
       "    <tr>\n",
       "      <th>1436</th>\n",
       "      <td>2357.0</td>\n",
       "      <td>35850.0</td>\n",
       "    </tr>\n",
       "    <tr>\n",
       "      <th>1437</th>\n",
       "      <td>2358.0</td>\n",
       "      <td>32547.0</td>\n",
       "    </tr>\n",
       "    <tr>\n",
       "      <th>1438</th>\n",
       "      <td>2359.0</td>\n",
       "      <td>32161.0</td>\n",
       "    </tr>\n",
       "    <tr>\n",
       "      <th>1439</th>\n",
       "      <td>2400.0</td>\n",
       "      <td>21791.0</td>\n",
       "    </tr>\n",
       "  </tbody>\n",
       "</table>\n",
       "<p>1440 rows × 2 columns</p>\n",
       "</div>"
      ],
      "text/plain": [
       "      dep_time      sum\n",
       "0          1.0  29797.0\n",
       "1          2.0  24181.0\n",
       "2          3.0  24606.0\n",
       "3          4.0  22507.0\n",
       "4          5.0  21317.0\n",
       "...        ...      ...\n",
       "1435    2356.0  36740.0\n",
       "1436    2357.0  35850.0\n",
       "1437    2358.0  32547.0\n",
       "1438    2359.0  32161.0\n",
       "1439    2400.0  21791.0\n",
       "\n",
       "[1440 rows x 2 columns]"
      ]
     },
     "execution_count": 102,
     "metadata": {},
     "output_type": "execute_result"
    }
   ],
   "source": [
    "taxi_times"
   ]
  },
  {
   "cell_type": "code",
   "execution_count": 103,
   "metadata": {},
   "outputs": [
    {
     "data": {
      "image/png": "[encoded data removed]",
      "text/plain": [
       "<Figure size 432x288 with 1 Axes>"
      ]
     },
     "metadata": {
      "needs_background": "light"
     },
     "output_type": "display_data"
    }
   ],
   "source": [
    "#amount of taxis peaks around 6 am, constant for most of the rest of the day with slight peaks\n",
    "plt.plot(taxi_times['dep_time'],taxi_times['sum'])\n",
    "plt.title('Taxis in at departure time')\n",
    "plt.xlabel('Time')\n",
    "plt.ylabel('Taxis')\n",
    "plt.show()"
   ]
  },
  {
   "cell_type": "code",
   "execution_count": 107,
   "metadata": {},
   "outputs": [],
   "source": [
    "taxi_traffic = taxi_in['flights_leaving']"
   ]
  },
  {
   "cell_type": "code",
   "execution_count": 108,
   "metadata": {},
   "outputs": [],
   "source": [
    "taxi_traffic = pd.DataFrame(taxi_traffic)"
   ]
  },
  {
   "cell_type": "code",
   "execution_count": 110,
   "metadata": {},
   "outputs": [],
   "source": [
    "taxi_traffic['sum'] = taxi_in['sum']"
   ]
  },
  {
   "cell_type": "code",
   "execution_count": 115,
   "metadata": {},
   "outputs": [],
   "source": [
    "taxi_traffic = taxi_traffic.dropna()"
   ]
  },
  {
   "cell_type": "code",
   "execution_count": 119,
   "metadata": {},
   "outputs": [],
   "source": [
    "taxi_traffic = taxi_traffic.groupby(['flights_leaving']).mean()"
   ]
  },
  {
   "cell_type": "code",
   "execution_count": 123,
   "metadata": {},
   "outputs": [],
   "source": [
    "taxi_traffic = taxi_traffic.reset_index()"
   ]
  },
  {
   "cell_type": "code",
   "execution_count": 124,
   "metadata": {},
   "outputs": [
    {
     "data": {
      "image/png": "[encoded data removed]",
      "text/plain": [
       "<Figure size 432x288 with 1 Axes>"
      ]
     },
     "metadata": {
      "needs_background": "light"
     },
     "output_type": "display_data"
    }
   ],
   "source": [
    "#as more flights are leaving, amount of taxis coming in increases\n",
    "plt.plot(taxi_traffic['flights_leaving'],taxi_traffic['sum'])\n",
    "plt.title('Average amount of taxis coming in compared to flights leaving')\n",
    "plt.xlabel('Number of flights leaving')\n",
    "plt.ylabel('Taxis')\n",
    "plt.show()"
   ]
  },
  {
   "cell_type": "markdown",
   "metadata": {},
   "source": [
    "#### **Task 5**: What is the average percentage of delays that is already created before departure? (aka are arrival delays caused by departure delays?) Are airlines able to lower the delay during the flights?"
   ]
  },
  {
   "cell_type": "code",
   "execution_count": 162,
   "metadata": {},
   "outputs": [],
   "source": [
    "both_delays = \"select dep_delay, arr_delay from flights\"\n",
    "cursor.execute(both_delays)"
   ]
  },
  {
   "cell_type": "code",
   "execution_count": 185,
   "metadata": {},
   "outputs": [],
   "source": [
    "both_delays = pd.read_sql_query(both_delays,connection)"
   ]
  },
  {
   "cell_type": "code",
   "execution_count": 195,
   "metadata": {},
   "outputs": [],
   "source": [
    "both_delays = both_delays.dropna()"
   ]
  },
  {
   "cell_type": "code",
   "execution_count": 209,
   "metadata": {},
   "outputs": [],
   "source": [
    "#late departures only\n",
    "late_dep = both_delays[both_delays['dep_delay']>0]"
   ]
  },
  {
   "cell_type": "code",
   "execution_count": 224,
   "metadata": {},
   "outputs": [
    {
     "data": {
      "text/plain": [
       "3900977"
      ]
     },
     "execution_count": 224,
     "metadata": {},
     "output_type": "execute_result"
    }
   ],
   "source": [
    "#late departures that had a late arrival\n",
    "len(late_dep[late_dep['arr_delay']>0])"
   ]
  },
  {
   "cell_type": "code",
   "execution_count": 222,
   "metadata": {},
   "outputs": [],
   "source": [
    "#all late arrival flights\n",
    "late_arr=both_delays[both_delays['arr_delay']>0]"
   ]
  },
  {
   "cell_type": "code",
   "execution_count": 223,
   "metadata": {},
   "outputs": [
    {
     "data": {
      "text/plain": [
       "5474411"
      ]
     },
     "execution_count": 223,
     "metadata": {},
     "output_type": "execute_result"
    }
   ],
   "source": [
    "len(late_arr)"
   ]
  },
  {
   "cell_type": "code",
   "execution_count": 216,
   "metadata": {},
   "outputs": [
    {
     "data": {
      "text/plain": [
       "0.7125838743199954"
      ]
     },
     "execution_count": 216,
     "metadata": {},
     "output_type": "execute_result"
    }
   ],
   "source": [
    "#out of all late arrivals, this percentage had late departures\n",
    "3900977/5474411"
   ]
  },
  {
   "cell_type": "code",
   "execution_count": 225,
   "metadata": {},
   "outputs": [],
   "source": [
    "#can see how many flights had an arrival delay smaller than their departure delay, meaning they made up time during the flight\n",
    "arr_lower_dep = both_delays[both_delays['dep_delay']>both_delays['arr_delay']]"
   ]
  },
  {
   "cell_type": "code",
   "execution_count": 226,
   "metadata": {},
   "outputs": [
    {
     "data": {
      "text/plain": [
       "11089042"
      ]
     },
     "execution_count": 226,
     "metadata": {},
     "output_type": "execute_result"
    }
   ],
   "source": [
    "len(arr_lower_dep)"
   ]
  },
  {
   "cell_type": "code",
   "execution_count": 232,
   "metadata": {},
   "outputs": [
    {
     "data": {
      "text/plain": [
       "15611152"
      ]
     },
     "execution_count": 232,
     "metadata": {},
     "output_type": "execute_result"
    }
   ],
   "source": [
    "len(both_delays)"
   ]
  },
  {
   "cell_type": "code",
   "execution_count": 233,
   "metadata": {},
   "outputs": [
    {
     "data": {
      "text/plain": [
       "0.7103282320228513"
      ]
     },
     "execution_count": 233,
     "metadata": {},
     "output_type": "execute_result"
    }
   ],
   "source": [
    "#percentage of time the airline was able to make up time during the flight\n",
    "11089042/15611152"
   ]
  },
  {
   "cell_type": "markdown",
   "metadata": {},
   "source": [
    "#### **Task 6**: How many states cover 50% of US air traffic? "
   ]
  },
  {
   "cell_type": "code",
   "execution_count": 236,
   "metadata": {},
   "outputs": [],
   "source": [
    "citynames = \"select origin_city_name from flights\"\n",
    "cursor.execute(citynames)"
   ]
  },
  {
   "cell_type": "code",
   "execution_count": 237,
   "metadata": {},
   "outputs": [],
   "source": [
    "citynames = pd.read_sql_query(citynames,connection)"
   ]
  },
  {
   "cell_type": "code",
   "execution_count": 247,
   "metadata": {},
   "outputs": [],
   "source": [
    "citynames['state']=citynames['origin_city_name'].str.split(',').str[1]"
   ]
  },
  {
   "cell_type": "code",
   "execution_count": 249,
   "metadata": {},
   "outputs": [],
   "source": [
    "citynames = citynames.drop('origin_city_name',axis=1)"
   ]
  },
  {
   "cell_type": "code",
   "execution_count": 260,
   "metadata": {},
   "outputs": [
    {
     "data": {
      "text/plain": [
       "15927485"
      ]
     },
     "execution_count": 260,
     "metadata": {},
     "output_type": "execute_result"
    }
   ],
   "source": [
    "len(citynames)"
   ]
  },
  {
   "cell_type": "code",
   "execution_count": 261,
   "metadata": {},
   "outputs": [
    {
     "data": {
      "text/plain": [
       "7963742.5"
      ]
     },
     "execution_count": 261,
     "metadata": {},
     "output_type": "execute_result"
    }
   ],
   "source": [
    "#50% of the traffic must be around this number\n",
    "15927485/2"
   ]
  },
  {
   "cell_type": "code",
   "execution_count": 256,
   "metadata": {},
   "outputs": [],
   "source": [
    "#isolated just state for each flight in the dataframe, now count\n",
    "counted_states = Counter(citynames['state'])"
   ]
  },
  {
   "cell_type": "code",
   "execution_count": 274,
   "metadata": {},
   "outputs": [],
   "source": [
    "counted_states_ordered = dict(counted_states.most_common())"
   ]
  },
  {
   "cell_type": "code",
   "execution_count": 277,
   "metadata": {},
   "outputs": [],
   "source": [
    "state_values = counted_states_ordered.values()"
   ]
  },
  {
   "cell_type": "code",
   "execution_count": 296,
   "metadata": {},
   "outputs": [
    {
     "name": "stdout",
     "output_type": "stream",
     "text": [
      "8\n",
      "8497155\n"
     ]
    }
   ],
   "source": [
    "#8 states cover over 50% of US traffic\n",
    "i = 0\n",
    "c = 0\n",
    "thresh = 7963742.5\n",
    "for ele in state_values:\n",
    "    if c < thresh:\n",
    "        c += ele\n",
    "        i+=1\n",
    "    else:\n",
    "        break\n",
    "print(i)\n",
    "print(c)"
   ]
  },
  {
   "cell_type": "code",
   "execution_count": 306,
   "metadata": {},
   "outputs": [],
   "source": [
    "states = []\n",
    "for ele in counted_states_ordered.keys():\n",
    "    states.append(ele)"
   ]
  },
  {
   "cell_type": "code",
   "execution_count": 308,
   "metadata": {},
   "outputs": [
    {
     "data": {
      "text/plain": [
       "[' CA', ' TX', ' FL', ' IL', ' GA', ' NY', ' NC']"
      ]
     },
     "execution_count": 308,
     "metadata": {},
     "output_type": "execute_result"
    }
   ],
   "source": [
    "#these 8 states cover over 50% of US air traffic\n",
    "states[0:7]"
   ]
  },
  {
   "cell_type": "markdown",
   "metadata": {},
   "source": [
    "#### **Task 7**: Test the hypothesis whether planes fly faster when there is the departure delay? "
   ]
  },
  {
   "cell_type": "code",
   "execution_count": 319,
   "metadata": {},
   "outputs": [],
   "source": [
    "#use both_delays table from earlier, test if when departure delay is > 0, arrival delay decreases more than it would if there was a departure delay=<0\n",
    "not_late_dep = both_delays[both_delays['dep_delay']<=0]"
   ]
  },
  {
   "cell_type": "code",
   "execution_count": 324,
   "metadata": {},
   "outputs": [],
   "source": [
    "dep_mean_nl = not_late_dep['dep_delay'].mean()"
   ]
  },
  {
   "cell_type": "code",
   "execution_count": 325,
   "metadata": {},
   "outputs": [],
   "source": [
    "arr_mean_nl = not_late_dep['arr_delay'].mean()"
   ]
  },
  {
   "cell_type": "code",
   "execution_count": 335,
   "metadata": {},
   "outputs": [
    {
     "data": {
      "text/plain": [
       "5.196420497519841"
      ]
     },
     "execution_count": 335,
     "metadata": {},
     "output_type": "execute_result"
    }
   ],
   "source": [
    "#on flights that dont leave late, this is the amount of time faster they arrive than expected\n",
    "dep_mean_nl - arr_mean_nl"
   ]
  },
  {
   "cell_type": "code",
   "execution_count": 320,
   "metadata": {},
   "outputs": [],
   "source": [
    "late_dep = both_delays[both_delays['dep_delay']>0]"
   ]
  },
  {
   "cell_type": "code",
   "execution_count": 329,
   "metadata": {},
   "outputs": [],
   "source": [
    "dep_mean_l=late_dep['dep_delay'].mean()"
   ]
  },
  {
   "cell_type": "code",
   "execution_count": 330,
   "metadata": {},
   "outputs": [],
   "source": [
    "arr_mean_l = late_dep['arr_delay'].mean()"
   ]
  },
  {
   "cell_type": "code",
   "execution_count": 336,
   "metadata": {},
   "outputs": [
    {
     "data": {
      "text/plain": [
       "4.612597572861837"
      ]
     },
     "execution_count": 336,
     "metadata": {},
     "output_type": "execute_result"
    }
   ],
   "source": [
    "#on flights that leave late, this is the amount of time faster they arrive than expected\n",
    "dep_mean_l - arr_mean_l"
   ]
  },
  {
   "cell_type": "code",
   "execution_count": null,
   "metadata": {},
   "outputs": [],
   "source": [
    "#it seems like they arrive less early when theres a departure delay, meaning they dont fly faster"
   ]
  },
  {
   "cell_type": "markdown",
   "metadata": {},
   "source": [
    "#### **Task 8**: When (which hour) do most 'LONG', 'SHORT', 'MEDIUM' haul flights take off?"
   ]
  },
  {
   "cell_type": "code",
   "execution_count": 11,
   "metadata": {},
   "outputs": [],
   "source": [
    "#short haul is 3 hours or less, medium is 3-6 hours, long is 6+\n",
    "haul = \"select dep_time, air_time from flights\"\n",
    "cursor.execute(haul)\n",
    "haul = pd.read_sql_query(haul,connection)"
   ]
  },
  {
   "cell_type": "code",
   "execution_count": 12,
   "metadata": {},
   "outputs": [],
   "source": [
    "hour_dep_time = []\n",
    "for ele in haul['dep_time']:\n",
    "    ele = str(ele)\n",
    "    ele = ele[:-4]\n",
    "    if ele == '':\n",
    "        ele ='0'\n",
    "    hour_dep_time.append(ele)"
   ]
  },
  {
   "cell_type": "code",
   "execution_count": 13,
   "metadata": {},
   "outputs": [],
   "source": [
    "haul['dep_time'] = hour_dep_time"
   ]
  },
  {
   "cell_type": "code",
   "execution_count": 14,
   "metadata": {},
   "outputs": [],
   "source": [
    "hours = set(haul['dep_time'])"
   ]
  },
  {
   "cell_type": "code",
   "execution_count": 25,
   "metadata": {},
   "outputs": [],
   "source": [
    "#drop nulls\n",
    "haul = haul.dropna()"
   ]
  },
  {
   "cell_type": "code",
   "execution_count": 26,
   "metadata": {},
   "outputs": [],
   "source": [
    "#defining all the flights\n",
    "flighttypelist = []\n",
    "for ele in haul['air_time']:\n",
    "    if ele <= 180.0:\n",
    "        flighttypelist.append('SHORT')\n",
    "    if 180.0 < ele <= 360.0:\n",
    "        flighttypelist.append('MEDIUM')\n",
    "    if ele > 360.0:\n",
    "        flighttypelist.append('LONG')"
   ]
  },
  {
   "cell_type": "code",
   "execution_count": 27,
   "metadata": {},
   "outputs": [],
   "source": [
    "haul['haul_type']=flighttypelist"
   ]
  },
  {
   "cell_type": "code",
   "execution_count": 39,
   "metadata": {},
   "outputs": [],
   "source": [
    "#function to find hour with most of each type\n",
    "def sort_hauls(haultype):\n",
    "    htype = haul[haul['haul_type']==haultype]\n",
    "    x = Counter(htype['dep_time'])\n",
    "    return x.most_common()[0]"
   ]
  },
  {
   "cell_type": "code",
   "execution_count": 40,
   "metadata": {},
   "outputs": [
    {
     "data": {
      "text/plain": [
       "('6', 850116)"
      ]
     },
     "execution_count": 40,
     "metadata": {},
     "output_type": "execute_result"
    }
   ],
   "source": [
    "#6:00 has the most short haul\n",
    "sort_hauls('SHORT')"
   ]
  },
  {
   "cell_type": "code",
   "execution_count": 41,
   "metadata": {},
   "outputs": [
    {
     "data": {
      "text/plain": [
       "('8', 151565)"
      ]
     },
     "execution_count": 41,
     "metadata": {},
     "output_type": "execute_result"
    }
   ],
   "source": [
    "#8:00 has the most medium haul\n",
    "sort_hauls('MEDIUM')"
   ]
  },
  {
   "cell_type": "code",
   "execution_count": 42,
   "metadata": {},
   "outputs": [
    {
     "data": {
      "text/plain": [
       "('11', 6070)"
      ]
     },
     "execution_count": 42,
     "metadata": {},
     "output_type": "execute_result"
    }
   ],
   "source": [
    "#11:00 has the most long hauls\n",
    "sort_hauls('LONG')"
   ]
  },
  {
   "cell_type": "markdown",
   "metadata": {},
   "source": [
    "#### **Task 9**: Find the top 10 the bussiest airports. Does the biggest number of flights mean that the biggest number of passengers went through the particular airport? How much traffic do these 10 airports cover?"
   ]
  },
  {
   "cell_type": "code",
   "execution_count": 58,
   "metadata": {},
   "outputs": [],
   "source": [
    "#origin is the airport name\n",
    "airport_busy = \"select fl_date, origin from flights\"\n",
    "cursor.execute(airport_busy)\n",
    "airport_busy = pd.read_sql_query(airport_busy,connection)"
   ]
  },
  {
   "cell_type": "code",
   "execution_count": 99,
   "metadata": {},
   "outputs": [
    {
     "data": {
      "text/html": [
       "<div>\n",
       "<style scoped>\n",
       "    .dataframe tbody tr th:only-of-type {\n",
       "        vertical-align: middle;\n",
       "    }\n",
       "\n",
       "    .dataframe tbody tr th {\n",
       "        vertical-align: top;\n",
       "    }\n",
       "\n",
       "    .dataframe thead th {\n",
       "        text-align: right;\n",
       "    }\n",
       "</style>\n",
       "<table border=\"1\" class=\"dataframe\">\n",
       "  <thead>\n",
       "    <tr style=\"text-align: right;\">\n",
       "      <th></th>\n",
       "      <th>fl_date</th>\n",
       "      <th>origin</th>\n",
       "    </tr>\n",
       "  </thead>\n",
       "  <tbody>\n",
       "    <tr>\n",
       "      <th>0</th>\n",
       "      <td>2019-01-01</td>\n",
       "      <td>ATL</td>\n",
       "    </tr>\n",
       "    <tr>\n",
       "      <th>1</th>\n",
       "      <td>2019-01-01</td>\n",
       "      <td>LGA</td>\n",
       "    </tr>\n",
       "    <tr>\n",
       "      <th>2</th>\n",
       "      <td>2019-01-01</td>\n",
       "      <td>LAX</td>\n",
       "    </tr>\n",
       "    <tr>\n",
       "      <th>3</th>\n",
       "      <td>2019-01-01</td>\n",
       "      <td>RSW</td>\n",
       "    </tr>\n",
       "    <tr>\n",
       "      <th>4</th>\n",
       "      <td>2019-01-01</td>\n",
       "      <td>AUS</td>\n",
       "    </tr>\n",
       "    <tr>\n",
       "      <th>...</th>\n",
       "      <td>...</td>\n",
       "      <td>...</td>\n",
       "    </tr>\n",
       "    <tr>\n",
       "      <th>15927480</th>\n",
       "      <td>2019-01-01</td>\n",
       "      <td>CVG</td>\n",
       "    </tr>\n",
       "    <tr>\n",
       "      <th>15927481</th>\n",
       "      <td>2019-01-01</td>\n",
       "      <td>MCO</td>\n",
       "    </tr>\n",
       "    <tr>\n",
       "      <th>15927482</th>\n",
       "      <td>2019-01-01</td>\n",
       "      <td>LGA</td>\n",
       "    </tr>\n",
       "    <tr>\n",
       "      <th>15927483</th>\n",
       "      <td>2019-01-01</td>\n",
       "      <td>BZN</td>\n",
       "    </tr>\n",
       "    <tr>\n",
       "      <th>15927484</th>\n",
       "      <td>2019-01-01</td>\n",
       "      <td>MSP</td>\n",
       "    </tr>\n",
       "  </tbody>\n",
       "</table>\n",
       "<p>15927485 rows × 2 columns</p>\n",
       "</div>"
      ],
      "text/plain": [
       "             fl_date origin\n",
       "0         2019-01-01    ATL\n",
       "1         2019-01-01    LGA\n",
       "2         2019-01-01    LAX\n",
       "3         2019-01-01    RSW\n",
       "4         2019-01-01    AUS\n",
       "...              ...    ...\n",
       "15927480  2019-01-01    CVG\n",
       "15927481  2019-01-01    MCO\n",
       "15927482  2019-01-01    LGA\n",
       "15927483  2019-01-01    BZN\n",
       "15927484  2019-01-01    MSP\n",
       "\n",
       "[15927485 rows x 2 columns]"
      ]
     },
     "execution_count": 99,
     "metadata": {},
     "output_type": "execute_result"
    }
   ],
   "source": [
    "airport_busy"
   ]
  },
  {
   "cell_type": "code",
   "execution_count": 60,
   "metadata": {},
   "outputs": [],
   "source": [
    "airportcount=Counter(airport_busy['origin'])"
   ]
  },
  {
   "cell_type": "code",
   "execution_count": 63,
   "metadata": {},
   "outputs": [
    {
     "data": {
      "text/plain": [
       "[('ORD', 790253),\n",
       " ('ATL', 785850),\n",
       " ('DFW', 584688),\n",
       " ('DEN', 552134),\n",
       " ('CLT', 501557),\n",
       " ('LAX', 500840),\n",
       " ('SEA', 379367),\n",
       " ('SFO', 357626),\n",
       " ('PHX', 355485),\n",
       " ('IAH', 354379)]"
      ]
     },
     "execution_count": 63,
     "metadata": {},
     "output_type": "execute_result"
    }
   ],
   "source": [
    "#10 most common airports\n",
    "airportcount.most_common()[0:10]"
   ]
  },
  {
   "cell_type": "code",
   "execution_count": 115,
   "metadata": {},
   "outputs": [],
   "source": [
    "ten_top_ports = airportcount.most_common()[0:10]"
   ]
  },
  {
   "cell_type": "code",
   "execution_count": 120,
   "metadata": {},
   "outputs": [],
   "source": [
    "tentotal = 0\n",
    "for ele in ten_top_ports:\n",
    "    e = int(ele[1])\n",
    "    tentotal +=e"
   ]
  },
  {
   "cell_type": "code",
   "execution_count": 122,
   "metadata": {},
   "outputs": [],
   "source": [
    "totalamount = len(airport_busy)"
   ]
  },
  {
   "cell_type": "code",
   "execution_count": 124,
   "metadata": {},
   "outputs": [
    {
     "data": {
      "text/plain": [
       "0.32410509254913755"
      ]
     },
     "execution_count": 124,
     "metadata": {},
     "output_type": "execute_result"
    }
   ],
   "source": [
    "#the top 10 airports cover this percentage of traffic going out\n",
    "tentotal/totalamount"
   ]
  },
  {
   "cell_type": "code",
   "execution_count": 80,
   "metadata": {},
   "outputs": [],
   "source": [
    "#range of dates needed from passengers\n",
    "uniqdates = set(airport_busy['fl_date'])\n",
    "#most recent date is 2018-01-01, last is 2019-12-31"
   ]
  },
  {
   "cell_type": "code",
   "execution_count": 89,
   "metadata": {},
   "outputs": [],
   "source": [
    "passengers_busy = \"select origin, SUM(passengers) from passengers where year = 2018 OR year = 2019 group by origin\"\n",
    "cursor.execute(passengers_busy)\n",
    "passengers_busy = pd.read_sql_query(passengers_busy,connection)"
   ]
  },
  {
   "cell_type": "code",
   "execution_count": 94,
   "metadata": {},
   "outputs": [
    {
     "data": {
      "text/html": [
       "<div>\n",
       "<style scoped>\n",
       "    .dataframe tbody tr th:only-of-type {\n",
       "        vertical-align: middle;\n",
       "    }\n",
       "\n",
       "    .dataframe tbody tr th {\n",
       "        vertical-align: top;\n",
       "    }\n",
       "\n",
       "    .dataframe thead th {\n",
       "        text-align: right;\n",
       "    }\n",
       "</style>\n",
       "<table border=\"1\" class=\"dataframe\">\n",
       "  <thead>\n",
       "    <tr style=\"text-align: right;\">\n",
       "      <th></th>\n",
       "      <th>origin</th>\n",
       "      <th>sum</th>\n",
       "    </tr>\n",
       "  </thead>\n",
       "  <tbody>\n",
       "    <tr>\n",
       "      <th>135</th>\n",
       "      <td>ATL</td>\n",
       "      <td>106124756.0</td>\n",
       "    </tr>\n",
       "    <tr>\n",
       "      <th>1007</th>\n",
       "      <td>LAX</td>\n",
       "      <td>86663992.0</td>\n",
       "    </tr>\n",
       "    <tr>\n",
       "      <th>1375</th>\n",
       "      <td>ORD</td>\n",
       "      <td>81047662.0</td>\n",
       "    </tr>\n",
       "    <tr>\n",
       "      <th>462</th>\n",
       "      <td>DFW</td>\n",
       "      <td>68792565.0</td>\n",
       "    </tr>\n",
       "    <tr>\n",
       "      <th>460</th>\n",
       "      <td>DEN</td>\n",
       "      <td>65570991.0</td>\n",
       "    </tr>\n",
       "    <tr>\n",
       "      <th>886</th>\n",
       "      <td>JFK</td>\n",
       "      <td>61883777.0</td>\n",
       "    </tr>\n",
       "    <tr>\n",
       "      <th>1648</th>\n",
       "      <td>SFO</td>\n",
       "      <td>55930960.0</td>\n",
       "    </tr>\n",
       "    <tr>\n",
       "      <th>1637</th>\n",
       "      <td>SEA</td>\n",
       "      <td>49076280.0</td>\n",
       "    </tr>\n",
       "    <tr>\n",
       "      <th>1005</th>\n",
       "      <td>LAS</td>\n",
       "      <td>48841318.0</td>\n",
       "    </tr>\n",
       "    <tr>\n",
       "      <th>1117</th>\n",
       "      <td>MCO</td>\n",
       "      <td>48136663.0</td>\n",
       "    </tr>\n",
       "  </tbody>\n",
       "</table>\n",
       "</div>"
      ],
      "text/plain": [
       "     origin          sum\n",
       "135     ATL  106124756.0\n",
       "1007    LAX   86663992.0\n",
       "1375    ORD   81047662.0\n",
       "462     DFW   68792565.0\n",
       "460     DEN   65570991.0\n",
       "886     JFK   61883777.0\n",
       "1648    SFO   55930960.0\n",
       "1637    SEA   49076280.0\n",
       "1005    LAS   48841318.0\n",
       "1117    MCO   48136663.0"
      ]
     },
     "execution_count": 94,
     "metadata": {},
     "output_type": "execute_result"
    }
   ],
   "source": [
    "passengers_busy.sort_values('sum', ascending=False).head(10)"
   ]
  },
  {
   "cell_type": "code",
   "execution_count": null,
   "metadata": {},
   "outputs": [],
   "source": [
    "#the airports that have the most flights going out are mostly the ones that have the most passengers going through them as well during that time frame, with a few exceptions"
   ]
  },
  {
   "cell_type": "markdown",
   "metadata": {},
   "source": [
    "#### **Task 10**: Do bigger delays lead to bigger fuel comsumption per passenger? \n",
    "We need to do four things to answer this as accurate as possible:\n",
    "- Find out average monthly delay per air carrier (monthly delay is sum of all delays in 1 month)\n",
    "- Find out distance covered monthly by different air carriers\n",
    "- Find out number of passengers that were carried by different air carriers\n",
    "- Find out total fuel comsumption per air carrier.\n",
    "\n",
    "Use this information to get the average fuel comsumption per passenger per km. Is this higher for the airlines with bigger average delays?"
   ]
  },
  {
   "cell_type": "code",
   "execution_count": 154,
   "metadata": {},
   "outputs": [],
   "source": [
    "delay_dates = \"select fl_date, mkt_carrier, SUM(dep_delay) as dep_delay, SUM(distance) as distance from flights group by mkt_carrier, fl_date\"\n",
    "cursor.execute(delay_dates)\n",
    "delay_dates = pd.read_sql_query(delay_dates,connection)"
   ]
  },
  {
   "cell_type": "code",
   "execution_count": 165,
   "metadata": {},
   "outputs": [
    {
     "data": {
      "text/plain": [
       "fl_date        0\n",
       "mkt_carrier    0\n",
       "dep_delay      0\n",
       "distance       0\n",
       "dtype: int64"
      ]
     },
     "execution_count": 165,
     "metadata": {},
     "output_type": "execute_result"
    }
   ],
   "source": [
    "delay_dates.isnull().sum()"
   ]
  },
  {
   "cell_type": "code",
   "execution_count": 166,
   "metadata": {},
   "outputs": [],
   "source": [
    "#convert to datetime so can seperate for month\n",
    "delay_dates['fl_date'] = pd.to_datetime(delay_dates['fl_date'])"
   ]
  },
  {
   "cell_type": "code",
   "execution_count": 191,
   "metadata": {},
   "outputs": [],
   "source": [
    "carriernames = set(delay_dates['mkt_carrier'])\n",
    "carriernames = list(carriernames)"
   ]
  },
  {
   "cell_type": "code",
   "execution_count": 313,
   "metadata": {},
   "outputs": [
    {
     "data": {
      "text/plain": [
       "['WN', 'AA', 'HA', 'G4', 'VX', 'UA', 'B6', 'AS', 'F9', 'DL', 'NK']"
      ]
     },
     "execution_count": 313,
     "metadata": {},
     "output_type": "execute_result"
    }
   ],
   "source": [
    "carriernames"
   ]
  },
  {
   "cell_type": "code",
   "execution_count": 266,
   "metadata": {},
   "outputs": [],
   "source": [
    "#dictionary that holds all the dataframes created for each carrier i need\n",
    "flights_carrier_dict = {}\n",
    "for name in carriernames:\n",
    "    flights_carrier_dict[name] = delay_dates[delay_dates['mkt_carrier']==name]"
   ]
  },
  {
   "cell_type": "code",
   "execution_count": 269,
   "metadata": {},
   "outputs": [],
   "source": [
    "#dictionary for the right formatted dataframes\n",
    "carrier_flights = {}\n",
    "for ele in carriernames:\n",
    "    carrier_flights[ele] = flights_carrier_dict[ele].groupby([(flights_carrier_dict[ele].fl_date.dt.year), (flights_carrier_dict[ele].fl_date.dt.month)]).sum()\n",
    "    carrier_flights[ele]"
   ]
  },
  {
   "cell_type": "code",
   "execution_count": 232,
   "metadata": {},
   "outputs": [],
   "source": [
    "#getting passengers data\n",
    "passengers_dates = \"select passengers, carrier, year, month from passengers where year = 2018 or year = 2019\"\n",
    "cursor.execute(passengers_dates)\n",
    "passengers_dates = pd.read_sql_query(passengers_dates,connection)"
   ]
  },
  {
   "cell_type": "code",
   "execution_count": 240,
   "metadata": {},
   "outputs": [],
   "source": [
    "#dictionary that holds all the dataframes created for each carrier i need\n",
    "passengers_carrier_dict = {}\n",
    "for name in carriernames:\n",
    "    passengers_carrier_dict[name] = passengers_dates[passengers_dates['carrier']==name]"
   ]
  },
  {
   "cell_type": "code",
   "execution_count": 249,
   "metadata": {},
   "outputs": [],
   "source": [
    "#dictionary for the right formatted dataframes\n",
    "carrier_passengers = {}\n",
    "for ele in carriernames:\n",
    "    carrier_passengers[ele] = passengers_carrier_dict[ele].groupby(['year','month']).sum()"
   ]
  },
  {
   "cell_type": "code",
   "execution_count": 306,
   "metadata": {},
   "outputs": [],
   "source": [
    "#data i need for fuel usage\n",
    "fuel_carriers = \"select carrier, total_gallons, year, month from fuel_comsumption where year = 2018 or year = 2019\"\n",
    "cursor.execute(fuel_carriers)\n",
    "fuel_carriers = pd.read_sql_query(fuel_carriers,connection)"
   ]
  },
  {
   "cell_type": "code",
   "execution_count": 258,
   "metadata": {},
   "outputs": [],
   "source": [
    "#dictionary that holds all the dataframes created for each carrier i need\n",
    "fuel_carrier_dict = {}\n",
    "for name in carriernames:\n",
    "    fuel_carrier_dict[name] = fuel_carriers[fuel_carriers['carrier']==name]"
   ]
  },
  {
   "cell_type": "code",
   "execution_count": 302,
   "metadata": {},
   "outputs": [],
   "source": [
    "#dictionary for the right formatted dataframes\n",
    "fuel_carrier = {}\n",
    "for ele in carriernames:\n",
    "    fuel_carrier[ele] = fuel_carrier_dict[ele].groupby(['year','month']).sum()"
   ]
  },
  {
   "cell_type": "code",
   "execution_count": 309,
   "metadata": {},
   "outputs": [],
   "source": [
    "#function to merge all the information into a singular dataframe\n",
    "def merging_dfs(carrier):\n",
    "    ex = carrier_flights[carrier]\n",
    "    ex['passengers']=carrier_passengers[carrier]\n",
    "    ex['total_gallons']=fuel_carrier[carrier]\n",
    "    return ex"
   ]
  },
  {
   "cell_type": "code",
   "execution_count": 327,
   "metadata": {},
   "outputs": [],
   "source": [
    "#creating all the dataframes and placing them in a dict, dropna as fuel information wasnt available for last three months of 2019, so im just removing those rows\n",
    "fulldata_dict = {}\n",
    "for ele in carriernames:\n",
    "    fulldata_dict[ele]=merging_dfs(ele).dropna()"
   ]
  },
  {
   "cell_type": "code",
   "execution_count": 316,
   "metadata": {},
   "outputs": [
    {
     "data": {
      "text/plain": [
       "['WN', 'AA', 'HA', 'G4', 'VX', 'UA', 'B6', 'AS', 'F9', 'DL', 'NK']"
      ]
     },
     "execution_count": 316,
     "metadata": {},
     "output_type": "execute_result"
    }
   ],
   "source": [
    "carriernames"
   ]
  },
  {
   "cell_type": "code",
   "execution_count": null,
   "metadata": {},
   "outputs": [],
   "source": [
    "#Use this information to get the average fuel comsumption per passenger per km. Is this higher for the airlines with bigger average delays?"
   ]
  },
  {
   "cell_type": "code",
   "execution_count": 331,
   "metadata": {},
   "outputs": [
    {
     "name": "stdout",
     "output_type": "stream",
     "text": [
      "305528373.28571427\n",
      "12663393.57142857\n",
      "119509443.38095239\n"
     ]
    }
   ],
   "source": [
    "print(fulldata_dict['AA']['total_gallons'].mean())\n",
    "print(fulldata_dict['AA']['passengers'].mean())\n",
    "print(fulldata_dict['AA']['distance'].mean())"
   ]
  },
  {
   "cell_type": "code",
   "execution_count": 350,
   "metadata": {},
   "outputs": [],
   "source": [
    "average_consumption = []\n",
    "for ele in carriernames:\n",
    "    gl_pass = (fulldata_dict[ele]['total_gallons'].mean())/(fulldata_dict[ele]['passengers'].mean())\n",
    "    avg_consumption = gl_pass/(fulldata_dict[ele]['distance'].mean())\n",
    "    average_consumption.append(avg_consumption)"
   ]
  },
  {
   "cell_type": "code",
   "execution_count": 351,
   "metadata": {},
   "outputs": [
    {
     "data": {
      "text/plain": [
       "[1.4809660531832118e-07,\n",
       " 2.0188275345054904e-07,\n",
       " 4.7085147944724995e-06,\n",
       " 1.8265911141196645e-06,\n",
       " nan,\n",
       " 3.003579408677882e-07,\n",
       " 7.45467817815861e-07,\n",
       " 6.002336192883741e-07,\n",
       " 1.205156269940292e-06,\n",
       " 2.2563454864506688e-07,\n",
       " 8.783832292415638e-07]"
      ]
     },
     "execution_count": 351,
     "metadata": {},
     "output_type": "execute_result"
    }
   ],
   "source": [
    "#nan value because carrier VX had no fuel consumption data, so it couldnt be used for this analysis\n",
    "average_consumption"
   ]
  },
  {
   "cell_type": "code",
   "execution_count": 352,
   "metadata": {},
   "outputs": [],
   "source": [
    "average_delay = []\n",
    "for ele in carriernames:\n",
    "    avg_dly = (fulldata_dict[ele]['dep_delay'].mean())\n",
    "    average_delay.append(avg_dly)"
   ]
  },
  {
   "cell_type": "code",
   "execution_count": 353,
   "metadata": {},
   "outputs": [
    {
     "data": {
      "text/plain": [
       "[1205037.5714285714,\n",
       " 1764170.0952380951,\n",
       " 11149.0,\n",
       " 97028.19047619047,\n",
       " nan,\n",
       " 1632741.761904762,\n",
       " 422301.8095238095,\n",
       " 120725.61904761905,\n",
       " 180683.09523809524,\n",
       " 1389336.857142857,\n",
       " 168976.09523809524]"
      ]
     },
     "execution_count": 353,
     "metadata": {},
     "output_type": "execute_result"
    }
   ],
   "source": [
    "average_delay"
   ]
  },
  {
   "cell_type": "code",
   "execution_count": 370,
   "metadata": {},
   "outputs": [],
   "source": [
    "average_totals = pd.DataFrame(data=average_delay, columns=['average_delay'])"
   ]
  },
  {
   "cell_type": "code",
   "execution_count": 371,
   "metadata": {},
   "outputs": [],
   "source": [
    "average_totals['average_consumption'] = average_consumption"
   ]
  },
  {
   "cell_type": "code",
   "execution_count": 372,
   "metadata": {},
   "outputs": [
    {
     "data": {
      "text/html": [
       "<div>\n",
       "<style scoped>\n",
       "    .dataframe tbody tr th:only-of-type {\n",
       "        vertical-align: middle;\n",
       "    }\n",
       "\n",
       "    .dataframe tbody tr th {\n",
       "        vertical-align: top;\n",
       "    }\n",
       "\n",
       "    .dataframe thead th {\n",
       "        text-align: right;\n",
       "    }\n",
       "</style>\n",
       "<table border=\"1\" class=\"dataframe\">\n",
       "  <thead>\n",
       "    <tr style=\"text-align: right;\">\n",
       "      <th></th>\n",
       "      <th>average_delay</th>\n",
       "      <th>average_consumption</th>\n",
       "    </tr>\n",
       "  </thead>\n",
       "  <tbody>\n",
       "    <tr>\n",
       "      <th>0</th>\n",
       "      <td>1.205038e+06</td>\n",
       "      <td>1.480966e-07</td>\n",
       "    </tr>\n",
       "    <tr>\n",
       "      <th>1</th>\n",
       "      <td>1.764170e+06</td>\n",
       "      <td>2.018828e-07</td>\n",
       "    </tr>\n",
       "    <tr>\n",
       "      <th>2</th>\n",
       "      <td>1.114900e+04</td>\n",
       "      <td>4.708515e-06</td>\n",
       "    </tr>\n",
       "    <tr>\n",
       "      <th>3</th>\n",
       "      <td>9.702819e+04</td>\n",
       "      <td>1.826591e-06</td>\n",
       "    </tr>\n",
       "    <tr>\n",
       "      <th>4</th>\n",
       "      <td>NaN</td>\n",
       "      <td>NaN</td>\n",
       "    </tr>\n",
       "    <tr>\n",
       "      <th>5</th>\n",
       "      <td>1.632742e+06</td>\n",
       "      <td>3.003579e-07</td>\n",
       "    </tr>\n",
       "    <tr>\n",
       "      <th>6</th>\n",
       "      <td>4.223018e+05</td>\n",
       "      <td>7.454678e-07</td>\n",
       "    </tr>\n",
       "    <tr>\n",
       "      <th>7</th>\n",
       "      <td>1.207256e+05</td>\n",
       "      <td>6.002336e-07</td>\n",
       "    </tr>\n",
       "    <tr>\n",
       "      <th>8</th>\n",
       "      <td>1.806831e+05</td>\n",
       "      <td>1.205156e-06</td>\n",
       "    </tr>\n",
       "    <tr>\n",
       "      <th>9</th>\n",
       "      <td>1.389337e+06</td>\n",
       "      <td>2.256345e-07</td>\n",
       "    </tr>\n",
       "    <tr>\n",
       "      <th>10</th>\n",
       "      <td>1.689761e+05</td>\n",
       "      <td>8.783832e-07</td>\n",
       "    </tr>\n",
       "  </tbody>\n",
       "</table>\n",
       "</div>"
      ],
      "text/plain": [
       "    average_delay  average_consumption\n",
       "0    1.205038e+06         1.480966e-07\n",
       "1    1.764170e+06         2.018828e-07\n",
       "2    1.114900e+04         4.708515e-06\n",
       "3    9.702819e+04         1.826591e-06\n",
       "4             NaN                  NaN\n",
       "5    1.632742e+06         3.003579e-07\n",
       "6    4.223018e+05         7.454678e-07\n",
       "7    1.207256e+05         6.002336e-07\n",
       "8    1.806831e+05         1.205156e-06\n",
       "9    1.389337e+06         2.256345e-07\n",
       "10   1.689761e+05         8.783832e-07"
      ]
     },
     "execution_count": 372,
     "metadata": {},
     "output_type": "execute_result"
    }
   ],
   "source": [
    "average_totals"
   ]
  },
  {
   "cell_type": "code",
   "execution_count": 379,
   "metadata": {},
   "outputs": [
    {
     "data": {
      "image/png": "[encoded data removed]",
      "text/plain": [
       "<Figure size 432x288 with 1 Axes>"
      ]
     },
     "metadata": {
      "needs_background": "light"
     },
     "output_type": "display_data"
    }
   ],
   "source": [
    "plt.xlabel('Delay')\n",
    "plt.ylabel('Consumption per passenger per km')\n",
    "plt.scatter(average_totals['average_delay'], average_totals['average_consumption'])\n",
    "plt.show()"
   ]
  },
  {
   "cell_type": "code",
   "execution_count": null,
   "metadata": {},
   "outputs": [],
   "source": [
    "#it does not seem to be true that higher average delays lead to more fuel consumption"
   ]
  }
 ],
 "metadata": {
  "kernelspec": {
   "display_name": "Python 3 (ipykernel)",
   "language": "python",
   "name": "python3"
  },
  "language_info": {
   "codemirror_mode": {
    "name": "ipython",
    "version": 3
   },
   "file_extension": ".py",
   "mimetype": "text/x-python",
   "name": "python",
   "nbconvert_exporter": "python",
   "pygments_lexer": "ipython3",
   "version": "3.9.12"
  },
  "toc": {
   "base_numbering": 1,
   "nav_menu": {},
   "number_sections": true,
   "sideBar": true,
   "skip_h1_title": false,
   "title_cell": "Table of Contents",
   "title_sidebar": "Contents",
   "toc_cell": false,
   "toc_position": {},
   "toc_section_display": true,
   "toc_window_display": false
  },
  "varInspector": {
   "cols": {
    "lenName": 16,
    "lenType": 16,
    "lenVar": 40
   },
   "kernels_config": {
    "python": {
     "delete_cmd_postfix": "",
     "delete_cmd_prefix": "del ",
     "library": "var_list.py",
     "varRefreshCmd": "print(var_dic_list())"
    },
    "r": {
     "delete_cmd_postfix": ") ",
     "delete_cmd_prefix": "rm(",
     "library": "var_list.r",
     "varRefreshCmd": "cat(var_dic_list()) "
    }
   },
   "types_to_exclude": [
    "module",
    "function",
    "builtin_function_or_method",
    "instance",
    "_Feature"
   ],
   "window_display": false
  }
 },
 "nbformat": 4,
 "nbformat_minor": 4
}
