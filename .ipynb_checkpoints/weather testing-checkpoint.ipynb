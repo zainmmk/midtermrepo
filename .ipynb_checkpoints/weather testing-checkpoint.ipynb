{
 "cells": [
  {
   "cell_type": "code",
   "execution_count": 1,
   "id": "37203092-1ee5-402e-bfc2-bcbdad985469",
   "metadata": {},
   "outputs": [],
   "source": [
    "import pandas as pd\n",
    "import psycopg2\n",
    "from psycopg2 import Error\n",
    "import requests as re\n",
    "import os\n",
    "weather_key = os.environ[\"WETH_API\"]\n",
    "from collections import Counter"
   ]
  },
  {
   "cell_type": "code",
   "execution_count": 2,
   "id": "ba072f14-7475-4335-b9a2-02ba2dc9980c",
   "metadata": {},
   "outputs": [],
   "source": [
    "connection = psycopg2.connect(user=\"lhl_student\",\n",
    "                                  password=\"lhl_student\",\n",
    "                                  host=\"lhl-data-bootcamp.crzjul5qln0e.ca-central-1.rds.amazonaws.com\",\n",
    "                                  port=\"5432\",\n",
    "                                  database=\"mid_term_project\")\n",
    "cursor=connection.cursor()"
   ]
  },
  {
   "cell_type": "code",
   "execution_count": 3,
   "id": "8c09aa44-d6c5-4e89-a2c2-4cb95b749ff0",
   "metadata": {},
   "outputs": [],
   "source": [
    "bigdf = pd.read_csv(\"C:/Users/zain_/LHL/Midterm/mid-term-project-I/fulldf.csv\")"
   ]
  },
  {
   "cell_type": "code",
   "execution_count": 9,
   "id": "75fe2cc0-815a-4a87-9c1c-f8eaabf5d8dc",
   "metadata": {},
   "outputs": [],
   "source": [
    "city_names = bigdf['origin_city_name']\n",
    "flight_date = bigdf['fl_date']"
   ]
  },
  {
   "cell_type": "code",
   "execution_count": 5,
   "id": "c1d86126-fb06-40ad-a765-f17aa837729d",
   "metadata": {},
   "outputs": [],
   "source": [
    "weather_key = os.environ[\"WETH_API\"]"
   ]
  },
  {
   "cell_type": "code",
   "execution_count": 15,
   "id": "cb952c5c-1150-4322-befd-60ae82813cf6",
   "metadata": {},
   "outputs": [],
   "source": [
    "jsonlist = []\n",
    "i=0\n",
    "try:\n",
    "    for ele in city_names:\n",
    "        url = 'http://api.weatherapi.com/v1/current.json'\n",
    "        params = {'key': weather_key, 'q':ele, 'dt':flight_date[i]}\n",
    "        response = re.get(url, params = params)\n",
    "        i+=1\n",
    "        b = response.json()\n",
    "        jsonlist.append(b)\n",
    "    conditions = []\n",
    "    for ele in jsonlist:\n",
    "        conditions.append(ele['current']['condition']['text'])\n",
    "    bigdf['weather_status'] = conditions\n",
    "except:\n",
    "    pass"
   ]
  },
  {
   "cell_type": "code",
   "execution_count": 20,
   "id": "1855209b-3abd-496b-b75a-62769309e43f",
   "metadata": {},
   "outputs": [],
   "source": [
    "conditions = []\n",
    "for ele in jsonlist:\n",
    "    conditions.append(ele['current']['condition']['text'])"
   ]
  },
  {
   "cell_type": "code",
   "execution_count": 53,
   "id": "3d39addf-644f-4d7c-b44b-3f21fa290282",
   "metadata": {},
   "outputs": [
    {
     "data": {
      "text/plain": [
       "Counter({'Sunny': 25148,\n",
       "         'Partly cloudy': 34447,\n",
       "         'Overcast': 3180,\n",
       "         'Clear': 5865,\n",
       "         'Mist': 753,\n",
       "         'Light rain': 158,\n",
       "         'Fog': 24,\n",
       "         'Patchy rain possible': 11,\n",
       "         'Moderate or heavy rain with thunder': 64,\n",
       "         'Heavy rain': 10,\n",
       "         'Patchy light rain with thunder': 92,\n",
       "         'Light rain shower': 2,\n",
       "         'Moderate rain': 1,\n",
       "         'Thundery outbreaks possible': 8})"
      ]
     },
     "execution_count": 53,
     "metadata": {},
     "output_type": "execute_result"
    }
   ],
   "source": [
    "Counter(conditions)"
   ]
  },
  {
   "cell_type": "code",
   "execution_count": 78,
   "id": "30c9a7a8-8c96-47ca-966f-2137903dfbce",
   "metadata": {},
   "outputs": [],
   "source": [
    "#any types with low counts merge with similar category\n",
    "#make into a function, replace dataframe column with new values\n",
    "adjusted_conditions = []\n",
    "conditions = [x.lower() for x in conditions]\n",
    "for ele in conditions:\n",
    "    if 'fog' in ele:\n",
    "        adjusted_conditions.append('mist')\n",
    "    elif 'rain' in ele:\n",
    "        adjusted_conditions.append('rain')\n",
    "    elif 'thunder' in ele:\n",
    "        adjusted_conditions.append('thunder')\n",
    "    elif 'snow' in ele:\n",
    "        adjusted_conditions.append('rain')\n",
    "    elif 'sunny' in ele:\n",
    "        adjusted_conditions.append('clear')\n",
    "    else:\n",
    "        adjusted_conditions.append(ele)"
   ]
  },
  {
   "cell_type": "code",
   "execution_count": 80,
   "id": "50388e7e-3c80-4493-8178-db982f704c63",
   "metadata": {},
   "outputs": [
    {
     "data": {
      "text/plain": [
       "{'clear', 'mist', 'overcast', 'partly cloudy', 'rain', 'thunder'}"
      ]
     },
     "execution_count": 80,
     "metadata": {},
     "output_type": "execute_result"
    }
   ],
   "source": [
    "#data for one hot encoding\n",
    "set(adjusted_conditions)"
   ]
  },
  {
   "cell_type": "code",
   "execution_count": 60,
   "id": "76650a39-8c3c-404b-83d5-81adeb9caa78",
   "metadata": {},
   "outputs": [
    {
     "data": {
      "text/plain": [
       "{'Clear',\n",
       " 'Fog',\n",
       " 'Heavy rain',\n",
       " 'Light rain',\n",
       " 'Light rain shower',\n",
       " 'Mist',\n",
       " 'Moderate or heavy rain with thunder',\n",
       " 'Moderate rain',\n",
       " 'Overcast',\n",
       " 'Partly cloudy',\n",
       " 'Patchy light rain with thunder',\n",
       " 'Patchy rain possible',\n",
       " 'Sunny',\n",
       " 'Thundery outbreaks possible'}"
      ]
     },
     "execution_count": 60,
     "metadata": {},
     "output_type": "execute_result"
    }
   ],
   "source": [
    "set(conditions)"
   ]
  },
  {
   "cell_type": "code",
   "execution_count": 39,
   "id": "03919f69-9ea6-440c-b4e7-64c611405a94",
   "metadata": {},
   "outputs": [
    {
     "data": {
      "text/plain": [
       "Counter({'Sunny': 25148,\n",
       "         'Partly cloudy': 34447,\n",
       "         'Overcast': 3180,\n",
       "         'Clear': 5865,\n",
       "         'Mist': 753,\n",
       "         'Light rain': 158,\n",
       "         'Fog': 24,\n",
       "         'Patchy rain possible': 11,\n",
       "         'Moderate or heavy rain with thunder': 64,\n",
       "         'Heavy rain': 10,\n",
       "         'Patchy light rain with thunder': 92,\n",
       "         'Light rain shower': 2,\n",
       "         'Moderate rain': 1,\n",
       "         'Thundery outbreaks possible': 8})"
      ]
     },
     "execution_count": 39,
     "metadata": {},
     "output_type": "execute_result"
    }
   ],
   "source": [
    "Counter(conditions)"
   ]
  },
  {
   "cell_type": "code",
   "execution_count": 30,
   "id": "a7d3d23a-2b85-4cc3-aa05-afa8d72d7670",
   "metadata": {},
   "outputs": [],
   "source": [
    "weather_df = bigdf[0:69763]"
   ]
  },
  {
   "cell_type": "code",
   "execution_count": 31,
   "id": "544570fb-e5ea-4b9f-a145-6967cebead30",
   "metadata": {},
   "outputs": [
    {
     "name": "stderr",
     "output_type": "stream",
     "text": [
      "C:\\Users\\zain_\\AppData\\Local\\Temp\\ipykernel_8636\\2237297297.py:1: SettingWithCopyWarning: \n",
      "A value is trying to be set on a copy of a slice from a DataFrame.\n",
      "Try using .loc[row_indexer,col_indexer] = value instead\n",
      "\n",
      "See the caveats in the documentation: https://pandas.pydata.org/pandas-docs/stable/user_guide/indexing.html#returning-a-view-versus-a-copy\n",
      "  weather_df['weather_condition'] = conditions\n"
     ]
    }
   ],
   "source": [
    "weather_df['weather_condition'] = conditions"
   ]
  },
  {
   "cell_type": "code",
   "execution_count": 32,
   "id": "1b7c1516-ea01-4a8c-a0b7-c6e76256a598",
   "metadata": {},
   "outputs": [
    {
     "data": {
      "text/plain": [
       "0                Sunny\n",
       "1                Sunny\n",
       "2        Partly cloudy\n",
       "3             Overcast\n",
       "4        Partly cloudy\n",
       "             ...      \n",
       "69758            Sunny\n",
       "69759    Partly cloudy\n",
       "69760    Partly cloudy\n",
       "69761            Sunny\n",
       "69762            Sunny\n",
       "Name: weather_condition, Length: 69763, dtype: object"
      ]
     },
     "execution_count": 32,
     "metadata": {},
     "output_type": "execute_result"
    }
   ],
   "source": [
    "weather_df['weather_condition']"
   ]
  },
  {
   "cell_type": "code",
   "execution_count": 81,
   "id": "36b4fbd1-e30d-48c9-8ad5-45e0b8239139",
   "metadata": {},
   "outputs": [],
   "source": [
    "main_df = weather_df"
   ]
  },
  {
   "cell_type": "code",
   "execution_count": 82,
   "id": "d65863f2-7b49-461e-8db5-164a05e507ee",
   "metadata": {},
   "outputs": [],
   "source": [
    "main_df.to_csv('main_df.csv',index=False)"
   ]
  }
 ],
 "metadata": {
  "kernelspec": {
   "display_name": "Python 3 (ipykernel)",
   "language": "python",
   "name": "python3"
  },
  "language_info": {
   "codemirror_mode": {
    "name": "ipython",
    "version": 3
   },
   "file_extension": ".py",
   "mimetype": "text/x-python",
   "name": "python",
   "nbconvert_exporter": "python",
   "pygments_lexer": "ipython3",
   "version": "3.9.12"
  }
 },
 "nbformat": 4,
 "nbformat_minor": 5
}
